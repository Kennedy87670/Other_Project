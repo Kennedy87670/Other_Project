{
  "nbformat": 4,
  "nbformat_minor": 0,
  "metadata": {
    "colab": {
      "provenance": [],
      "authorship_tag": "ABX9TyOCti03s4makhlWnZxkNLSB",
      "include_colab_link": true
    },
    "kernelspec": {
      "name": "python3",
      "display_name": "Python 3"
    },
    "language_info": {
      "name": "python"
    }
  },
  "cells": [
    {
      "cell_type": "markdown",
      "metadata": {
        "id": "view-in-github",
        "colab_type": "text"
      },
      "source": [
        "<a href=\"https://colab.research.google.com/github/Kennedy87670/Other_Project/blob/main/Time_series_forecating.ipynb\" target=\"_parent\"><img src=\"https://colab.research.google.com/assets/colab-badge.svg\" alt=\"Open In Colab\"/></a>"
      ]
    },
    {
      "cell_type": "markdown",
      "source": [
        "## Time series forecating fundamentals with Tensorflow\n",
        "\n",
        "**NOTE** this is not financial advice"
      ],
      "metadata": {
        "id": "MLPkOCnLL1wS"
      }
    },
    {
      "cell_type": "markdown",
      "source": [
        "## Get data\n",
        "\n",
        "We are gont to be using historical price of bitcoin to try and predict the future price of Bitcon"
      ],
      "metadata": {
        "id": "BcBOr2bWMQVP"
      }
    },
    {
      "cell_type": "code",
      "source": [
        "!wget https://raw.githubusercontent.com/mrdbourke/tensorflow-deep-learning/main/extras/BTC_USD_2013-10-01_2021-05-18-CoinDesk.csv"
      ],
      "metadata": {
        "colab": {
          "base_uri": "https://localhost:8080/"
        },
        "id": "_qSzmiMXMtc4",
        "outputId": "0f88b4dc-6662-46f9-ceb6-b4326ce579da"
      },
      "execution_count": 1,
      "outputs": [
        {
          "output_type": "stream",
          "name": "stdout",
          "text": [
            "--2022-09-04 21:09:03--  https://raw.githubusercontent.com/mrdbourke/tensorflow-deep-learning/main/extras/BTC_USD_2013-10-01_2021-05-18-CoinDesk.csv\n",
            "Resolving raw.githubusercontent.com (raw.githubusercontent.com)... 185.199.108.133, 185.199.110.133, 185.199.109.133, ...\n",
            "Connecting to raw.githubusercontent.com (raw.githubusercontent.com)|185.199.108.133|:443... connected.\n",
            "HTTP request sent, awaiting response... 200 OK\n",
            "Length: 178509 (174K) [text/plain]\n",
            "Saving to: ‘BTC_USD_2013-10-01_2021-05-18-CoinDesk.csv’\n",
            "\n",
            "BTC_USD_2013-10-01_ 100%[===================>] 174.33K  --.-KB/s    in 0.01s   \n",
            "\n",
            "2022-09-04 21:09:03 (11.6 MB/s) - ‘BTC_USD_2013-10-01_2021-05-18-CoinDesk.csv’ saved [178509/178509]\n",
            "\n"
          ]
        }
      ]
    },
    {
      "cell_type": "code",
      "source": [
        "## Importing time series with pandas \n",
        "import pandas as pd\n",
        "\n",
        "# Lets read in our Bitcoin data and parse the dates\n",
        "df= pd.read_csv(\"/content/BTC_USD_2013-10-01_2021-05-18-CoinDesk.csv\",\n",
        "                parse_dates=[\"Date\"],\n",
        "                index_col=[\"Date\"]) # parse the date column tell pandas 1 is a date\n",
        "df.head()                "
      ],
      "metadata": {
        "colab": {
          "base_uri": "https://localhost:8080/",
          "height": 238
        },
        "id": "M7Ls8HacNy_s",
        "outputId": "fb00b3d6-673f-45f1-80b0-e39a01c06050"
      },
      "execution_count": 2,
      "outputs": [
        {
          "output_type": "execute_result",
          "data": {
            "text/plain": [
              "           Currency  Closing Price (USD)  24h Open (USD)  24h High (USD)  \\\n",
              "Date                                                                       \n",
              "2013-10-01      BTC            123.65499       124.30466       124.75166   \n",
              "2013-10-02      BTC            125.45500       123.65499       125.75850   \n",
              "2013-10-03      BTC            108.58483       125.45500       125.66566   \n",
              "2013-10-04      BTC            118.67466       108.58483       118.67500   \n",
              "2013-10-05      BTC            121.33866       118.67466       121.93633   \n",
              "\n",
              "            24h Low (USD)  \n",
              "Date                       \n",
              "2013-10-01      122.56349  \n",
              "2013-10-02      123.63383  \n",
              "2013-10-03       83.32833  \n",
              "2013-10-04      107.05816  \n",
              "2013-10-05      118.00566  "
            ],
            "text/html": [
              "\n",
              "  <div id=\"df-2ecb5b98-12dd-422e-9334-e21e1d5d90db\">\n",
              "    <div class=\"colab-df-container\">\n",
              "      <div>\n",
              "<style scoped>\n",
              "    .dataframe tbody tr th:only-of-type {\n",
              "        vertical-align: middle;\n",
              "    }\n",
              "\n",
              "    .dataframe tbody tr th {\n",
              "        vertical-align: top;\n",
              "    }\n",
              "\n",
              "    .dataframe thead th {\n",
              "        text-align: right;\n",
              "    }\n",
              "</style>\n",
              "<table border=\"1\" class=\"dataframe\">\n",
              "  <thead>\n",
              "    <tr style=\"text-align: right;\">\n",
              "      <th></th>\n",
              "      <th>Currency</th>\n",
              "      <th>Closing Price (USD)</th>\n",
              "      <th>24h Open (USD)</th>\n",
              "      <th>24h High (USD)</th>\n",
              "      <th>24h Low (USD)</th>\n",
              "    </tr>\n",
              "    <tr>\n",
              "      <th>Date</th>\n",
              "      <th></th>\n",
              "      <th></th>\n",
              "      <th></th>\n",
              "      <th></th>\n",
              "      <th></th>\n",
              "    </tr>\n",
              "  </thead>\n",
              "  <tbody>\n",
              "    <tr>\n",
              "      <th>2013-10-01</th>\n",
              "      <td>BTC</td>\n",
              "      <td>123.65499</td>\n",
              "      <td>124.30466</td>\n",
              "      <td>124.75166</td>\n",
              "      <td>122.56349</td>\n",
              "    </tr>\n",
              "    <tr>\n",
              "      <th>2013-10-02</th>\n",
              "      <td>BTC</td>\n",
              "      <td>125.45500</td>\n",
              "      <td>123.65499</td>\n",
              "      <td>125.75850</td>\n",
              "      <td>123.63383</td>\n",
              "    </tr>\n",
              "    <tr>\n",
              "      <th>2013-10-03</th>\n",
              "      <td>BTC</td>\n",
              "      <td>108.58483</td>\n",
              "      <td>125.45500</td>\n",
              "      <td>125.66566</td>\n",
              "      <td>83.32833</td>\n",
              "    </tr>\n",
              "    <tr>\n",
              "      <th>2013-10-04</th>\n",
              "      <td>BTC</td>\n",
              "      <td>118.67466</td>\n",
              "      <td>108.58483</td>\n",
              "      <td>118.67500</td>\n",
              "      <td>107.05816</td>\n",
              "    </tr>\n",
              "    <tr>\n",
              "      <th>2013-10-05</th>\n",
              "      <td>BTC</td>\n",
              "      <td>121.33866</td>\n",
              "      <td>118.67466</td>\n",
              "      <td>121.93633</td>\n",
              "      <td>118.00566</td>\n",
              "    </tr>\n",
              "  </tbody>\n",
              "</table>\n",
              "</div>\n",
              "      <button class=\"colab-df-convert\" onclick=\"convertToInteractive('df-2ecb5b98-12dd-422e-9334-e21e1d5d90db')\"\n",
              "              title=\"Convert this dataframe to an interactive table.\"\n",
              "              style=\"display:none;\">\n",
              "        \n",
              "  <svg xmlns=\"http://www.w3.org/2000/svg\" height=\"24px\"viewBox=\"0 0 24 24\"\n",
              "       width=\"24px\">\n",
              "    <path d=\"M0 0h24v24H0V0z\" fill=\"none\"/>\n",
              "    <path d=\"M18.56 5.44l.94 2.06.94-2.06 2.06-.94-2.06-.94-.94-2.06-.94 2.06-2.06.94zm-11 1L8.5 8.5l.94-2.06 2.06-.94-2.06-.94L8.5 2.5l-.94 2.06-2.06.94zm10 10l.94 2.06.94-2.06 2.06-.94-2.06-.94-.94-2.06-.94 2.06-2.06.94z\"/><path d=\"M17.41 7.96l-1.37-1.37c-.4-.4-.92-.59-1.43-.59-.52 0-1.04.2-1.43.59L10.3 9.45l-7.72 7.72c-.78.78-.78 2.05 0 2.83L4 21.41c.39.39.9.59 1.41.59.51 0 1.02-.2 1.41-.59l7.78-7.78 2.81-2.81c.8-.78.8-2.07 0-2.86zM5.41 20L4 18.59l7.72-7.72 1.47 1.35L5.41 20z\"/>\n",
              "  </svg>\n",
              "      </button>\n",
              "      \n",
              "  <style>\n",
              "    .colab-df-container {\n",
              "      display:flex;\n",
              "      flex-wrap:wrap;\n",
              "      gap: 12px;\n",
              "    }\n",
              "\n",
              "    .colab-df-convert {\n",
              "      background-color: #E8F0FE;\n",
              "      border: none;\n",
              "      border-radius: 50%;\n",
              "      cursor: pointer;\n",
              "      display: none;\n",
              "      fill: #1967D2;\n",
              "      height: 32px;\n",
              "      padding: 0 0 0 0;\n",
              "      width: 32px;\n",
              "    }\n",
              "\n",
              "    .colab-df-convert:hover {\n",
              "      background-color: #E2EBFA;\n",
              "      box-shadow: 0px 1px 2px rgba(60, 64, 67, 0.3), 0px 1px 3px 1px rgba(60, 64, 67, 0.15);\n",
              "      fill: #174EA6;\n",
              "    }\n",
              "\n",
              "    [theme=dark] .colab-df-convert {\n",
              "      background-color: #3B4455;\n",
              "      fill: #D2E3FC;\n",
              "    }\n",
              "\n",
              "    [theme=dark] .colab-df-convert:hover {\n",
              "      background-color: #434B5C;\n",
              "      box-shadow: 0px 1px 3px 1px rgba(0, 0, 0, 0.15);\n",
              "      filter: drop-shadow(0px 1px 2px rgba(0, 0, 0, 0.3));\n",
              "      fill: #FFFFFF;\n",
              "    }\n",
              "  </style>\n",
              "\n",
              "      <script>\n",
              "        const buttonEl =\n",
              "          document.querySelector('#df-2ecb5b98-12dd-422e-9334-e21e1d5d90db button.colab-df-convert');\n",
              "        buttonEl.style.display =\n",
              "          google.colab.kernel.accessAllowed ? 'block' : 'none';\n",
              "\n",
              "        async function convertToInteractive(key) {\n",
              "          const element = document.querySelector('#df-2ecb5b98-12dd-422e-9334-e21e1d5d90db');\n",
              "          const dataTable =\n",
              "            await google.colab.kernel.invokeFunction('convertToInteractive',\n",
              "                                                     [key], {});\n",
              "          if (!dataTable) return;\n",
              "\n",
              "          const docLinkHtml = 'Like what you see? Visit the ' +\n",
              "            '<a target=\"_blank\" href=https://colab.research.google.com/notebooks/data_table.ipynb>data table notebook</a>'\n",
              "            + ' to learn more about interactive tables.';\n",
              "          element.innerHTML = '';\n",
              "          dataTable['output_type'] = 'display_data';\n",
              "          await google.colab.output.renderOutput(dataTable, element);\n",
              "          const docLink = document.createElement('div');\n",
              "          docLink.innerHTML = docLinkHtml;\n",
              "          element.appendChild(docLink);\n",
              "        }\n",
              "      </script>\n",
              "    </div>\n",
              "  </div>\n",
              "  "
            ]
          },
          "metadata": {},
          "execution_count": 2
        }
      ]
    },
    {
      "cell_type": "code",
      "source": [
        "df.info()"
      ],
      "metadata": {
        "colab": {
          "base_uri": "https://localhost:8080/"
        },
        "id": "Ug9SObqDPKEO",
        "outputId": "50371629-01a6-4b01-91f8-cf4f6727d4dd"
      },
      "execution_count": 3,
      "outputs": [
        {
          "output_type": "stream",
          "name": "stdout",
          "text": [
            "<class 'pandas.core.frame.DataFrame'>\n",
            "DatetimeIndex: 2787 entries, 2013-10-01 to 2021-05-18\n",
            "Data columns (total 5 columns):\n",
            " #   Column               Non-Null Count  Dtype  \n",
            "---  ------               --------------  -----  \n",
            " 0   Currency             2787 non-null   object \n",
            " 1   Closing Price (USD)  2787 non-null   float64\n",
            " 2   24h Open (USD)       2787 non-null   float64\n",
            " 3   24h High (USD)       2787 non-null   float64\n",
            " 4   24h Low (USD)        2787 non-null   float64\n",
            "dtypes: float64(4), object(1)\n",
            "memory usage: 130.6+ KB\n"
          ]
        }
      ]
    },
    {
      "cell_type": "code",
      "source": [
        "# how many samples\n",
        "len(df)"
      ],
      "metadata": {
        "colab": {
          "base_uri": "https://localhost:8080/"
        },
        "id": "7k3F0KYgPMdi",
        "outputId": "40e45b6a-5c69-4883-d072-bacf6f5a212f"
      },
      "execution_count": 4,
      "outputs": [
        {
          "output_type": "execute_result",
          "data": {
            "text/plain": [
              "2787"
            ]
          },
          "metadata": {},
          "execution_count": 4
        }
      ]
    },
    {
      "cell_type": "markdown",
      "source": [
        "We've collected the historical price of Bitcoin for the past -8 years but theres 2787 samples.\n",
        "\n",
        "Typicaly deep learning models usually like lots and lots and lots of samples (where lots and lots and lots can thousand to tens of thousands to millions).\n",
        "\n",
        "A smaller number of samples is something you'll run into with time series data problems.\n",
        "\n",
        "**Note** The **seasonality** of a time series dataset is referred as the number of samples per year. so for our Bitcoin data, it has a seasonality of daily or value of 365 because we collect one sample per day meaning we will get 365 samples per year"
      ],
      "metadata": {
        "id": "kiRO1ZRnPbSv"
      }
    },
    {
      "cell_type": "code",
      "source": [
        "# Only want closing price for each day \n",
        "bitcoin_prices = pd.DataFrame(df[\"Closing Price (USD)\"]).rename(columns={\"Closing Price (USD)\": \"Price\"})\n",
        "bitcoin_prices.head()"
      ],
      "metadata": {
        "colab": {
          "base_uri": "https://localhost:8080/",
          "height": 238
        },
        "id": "rA3frAg6PSZC",
        "outputId": "c4b7e319-6d3e-4e6d-a6b1-cbbe81c2fb49"
      },
      "execution_count": 5,
      "outputs": [
        {
          "output_type": "execute_result",
          "data": {
            "text/plain": [
              "                Price\n",
              "Date                 \n",
              "2013-10-01  123.65499\n",
              "2013-10-02  125.45500\n",
              "2013-10-03  108.58483\n",
              "2013-10-04  118.67466\n",
              "2013-10-05  121.33866"
            ],
            "text/html": [
              "\n",
              "  <div id=\"df-699b759c-9a97-4085-8151-d79cde207fa2\">\n",
              "    <div class=\"colab-df-container\">\n",
              "      <div>\n",
              "<style scoped>\n",
              "    .dataframe tbody tr th:only-of-type {\n",
              "        vertical-align: middle;\n",
              "    }\n",
              "\n",
              "    .dataframe tbody tr th {\n",
              "        vertical-align: top;\n",
              "    }\n",
              "\n",
              "    .dataframe thead th {\n",
              "        text-align: right;\n",
              "    }\n",
              "</style>\n",
              "<table border=\"1\" class=\"dataframe\">\n",
              "  <thead>\n",
              "    <tr style=\"text-align: right;\">\n",
              "      <th></th>\n",
              "      <th>Price</th>\n",
              "    </tr>\n",
              "    <tr>\n",
              "      <th>Date</th>\n",
              "      <th></th>\n",
              "    </tr>\n",
              "  </thead>\n",
              "  <tbody>\n",
              "    <tr>\n",
              "      <th>2013-10-01</th>\n",
              "      <td>123.65499</td>\n",
              "    </tr>\n",
              "    <tr>\n",
              "      <th>2013-10-02</th>\n",
              "      <td>125.45500</td>\n",
              "    </tr>\n",
              "    <tr>\n",
              "      <th>2013-10-03</th>\n",
              "      <td>108.58483</td>\n",
              "    </tr>\n",
              "    <tr>\n",
              "      <th>2013-10-04</th>\n",
              "      <td>118.67466</td>\n",
              "    </tr>\n",
              "    <tr>\n",
              "      <th>2013-10-05</th>\n",
              "      <td>121.33866</td>\n",
              "    </tr>\n",
              "  </tbody>\n",
              "</table>\n",
              "</div>\n",
              "      <button class=\"colab-df-convert\" onclick=\"convertToInteractive('df-699b759c-9a97-4085-8151-d79cde207fa2')\"\n",
              "              title=\"Convert this dataframe to an interactive table.\"\n",
              "              style=\"display:none;\">\n",
              "        \n",
              "  <svg xmlns=\"http://www.w3.org/2000/svg\" height=\"24px\"viewBox=\"0 0 24 24\"\n",
              "       width=\"24px\">\n",
              "    <path d=\"M0 0h24v24H0V0z\" fill=\"none\"/>\n",
              "    <path d=\"M18.56 5.44l.94 2.06.94-2.06 2.06-.94-2.06-.94-.94-2.06-.94 2.06-2.06.94zm-11 1L8.5 8.5l.94-2.06 2.06-.94-2.06-.94L8.5 2.5l-.94 2.06-2.06.94zm10 10l.94 2.06.94-2.06 2.06-.94-2.06-.94-.94-2.06-.94 2.06-2.06.94z\"/><path d=\"M17.41 7.96l-1.37-1.37c-.4-.4-.92-.59-1.43-.59-.52 0-1.04.2-1.43.59L10.3 9.45l-7.72 7.72c-.78.78-.78 2.05 0 2.83L4 21.41c.39.39.9.59 1.41.59.51 0 1.02-.2 1.41-.59l7.78-7.78 2.81-2.81c.8-.78.8-2.07 0-2.86zM5.41 20L4 18.59l7.72-7.72 1.47 1.35L5.41 20z\"/>\n",
              "  </svg>\n",
              "      </button>\n",
              "      \n",
              "  <style>\n",
              "    .colab-df-container {\n",
              "      display:flex;\n",
              "      flex-wrap:wrap;\n",
              "      gap: 12px;\n",
              "    }\n",
              "\n",
              "    .colab-df-convert {\n",
              "      background-color: #E8F0FE;\n",
              "      border: none;\n",
              "      border-radius: 50%;\n",
              "      cursor: pointer;\n",
              "      display: none;\n",
              "      fill: #1967D2;\n",
              "      height: 32px;\n",
              "      padding: 0 0 0 0;\n",
              "      width: 32px;\n",
              "    }\n",
              "\n",
              "    .colab-df-convert:hover {\n",
              "      background-color: #E2EBFA;\n",
              "      box-shadow: 0px 1px 2px rgba(60, 64, 67, 0.3), 0px 1px 3px 1px rgba(60, 64, 67, 0.15);\n",
              "      fill: #174EA6;\n",
              "    }\n",
              "\n",
              "    [theme=dark] .colab-df-convert {\n",
              "      background-color: #3B4455;\n",
              "      fill: #D2E3FC;\n",
              "    }\n",
              "\n",
              "    [theme=dark] .colab-df-convert:hover {\n",
              "      background-color: #434B5C;\n",
              "      box-shadow: 0px 1px 3px 1px rgba(0, 0, 0, 0.15);\n",
              "      filter: drop-shadow(0px 1px 2px rgba(0, 0, 0, 0.3));\n",
              "      fill: #FFFFFF;\n",
              "    }\n",
              "  </style>\n",
              "\n",
              "      <script>\n",
              "        const buttonEl =\n",
              "          document.querySelector('#df-699b759c-9a97-4085-8151-d79cde207fa2 button.colab-df-convert');\n",
              "        buttonEl.style.display =\n",
              "          google.colab.kernel.accessAllowed ? 'block' : 'none';\n",
              "\n",
              "        async function convertToInteractive(key) {\n",
              "          const element = document.querySelector('#df-699b759c-9a97-4085-8151-d79cde207fa2');\n",
              "          const dataTable =\n",
              "            await google.colab.kernel.invokeFunction('convertToInteractive',\n",
              "                                                     [key], {});\n",
              "          if (!dataTable) return;\n",
              "\n",
              "          const docLinkHtml = 'Like what you see? Visit the ' +\n",
              "            '<a target=\"_blank\" href=https://colab.research.google.com/notebooks/data_table.ipynb>data table notebook</a>'\n",
              "            + ' to learn more about interactive tables.';\n",
              "          element.innerHTML = '';\n",
              "          dataTable['output_type'] = 'display_data';\n",
              "          await google.colab.output.renderOutput(dataTable, element);\n",
              "          const docLink = document.createElement('div');\n",
              "          docLink.innerHTML = docLinkHtml;\n",
              "          element.appendChild(docLink);\n",
              "        }\n",
              "      </script>\n",
              "    </div>\n",
              "  </div>\n",
              "  "
            ]
          },
          "metadata": {},
          "execution_count": 5
        }
      ]
    },
    {
      "cell_type": "code",
      "source": [
        "import matplotlib.pyplot as plt\n",
        "\n",
        "bitcoin_prices.plot(figsize=(10, 7))\n",
        "plt.ylabel(\"BTC Price\")\n",
        "plt.title(\"Price of Bitcoin from 1st Oct 2013 to 18th May 2021\",\n",
        "          fontsize=16)\n",
        "plt.legend(fontsize=14);"
      ],
      "metadata": {
        "colab": {
          "base_uri": "https://localhost:8080/",
          "height": 460
        },
        "id": "ZdzSWSeFTLO5",
        "outputId": "db3928b3-af09-4ee0-91ad-39c6afd4f54c"
      },
      "execution_count": 6,
      "outputs": [
        {
          "output_type": "display_data",
          "data": {
            "text/plain": [
              "<Figure size 720x504 with 1 Axes>"
            ],
            "image/png": "[encoded data removed]"
          },
          "metadata": {
            "needs_background": "light"
          }
        }
      ]
    },
    {
      "cell_type": "markdown",
      "source": [
        "# iMPORTING TIME SERIES DATA WITH PYTHN CSV MODULE"
      ],
      "metadata": {
        "id": "gRT0CVikTnaH"
      }
    },
    {
      "cell_type": "code",
      "source": [
        "import csv\n",
        "from datetime import datetime\n",
        "\n",
        "timesteps = []\n",
        "btc_price = []\n",
        "\n",
        "with open(\"/content/BTC_USD_2013-10-01_2021-05-18-CoinDesk.csv\", \"r\") as f:\n",
        "  csv_reader = csv.reader(f, delimiter=\",\")\n",
        "  next(csv_reader) # skip the first line (this gets rid of the column titles)\n",
        "  for line in csv_reader:\n",
        "    #timesteps.append(line[1])\n",
        "    timesteps.append(datetime.strptime(line[1], \"%Y-%m-%d\")) # get dates as datetime\n",
        "    btc_price.append(float(line[2]))  # get the closing part as float\n",
        "\n",
        "# View first 10 of each\n",
        "timesteps[:10], btc_price[:10]"
      ],
      "metadata": {
        "colab": {
          "base_uri": "https://localhost:8080/"
        },
        "id": "_b4DrUZaWV5V",
        "outputId": "b5bbf9f2-26d4-4759-9c7d-aeed03f4d7a9"
      },
      "execution_count": 7,
      "outputs": [
        {
          "output_type": "execute_result",
          "data": {
            "text/plain": [
              "([datetime.datetime(2013, 10, 1, 0, 0),\n",
              "  datetime.datetime(2013, 10, 2, 0, 0),\n",
              "  datetime.datetime(2013, 10, 3, 0, 0),\n",
              "  datetime.datetime(2013, 10, 4, 0, 0),\n",
              "  datetime.datetime(2013, 10, 5, 0, 0),\n",
              "  datetime.datetime(2013, 10, 6, 0, 0),\n",
              "  datetime.datetime(2013, 10, 7, 0, 0),\n",
              "  datetime.datetime(2013, 10, 8, 0, 0),\n",
              "  datetime.datetime(2013, 10, 9, 0, 0),\n",
              "  datetime.datetime(2013, 10, 10, 0, 0)],\n",
              " [123.65499,\n",
              "  125.455,\n",
              "  108.58483,\n",
              "  118.67466,\n",
              "  121.33866,\n",
              "  120.65533,\n",
              "  121.795,\n",
              "  123.033,\n",
              "  124.049,\n",
              "  125.96116])"
            ]
          },
          "metadata": {},
          "execution_count": 7
        }
      ]
    },
    {
      "cell_type": "code",
      "source": [
        "# Plot from csv\n",
        "import numpy as np\n",
        "plt.figure(figsize=(10,7))\n",
        "plt.plot(timesteps, btc_price)\n",
        "plt.ylabel(\"BTC Price\")\n",
        "plt.title(\"Price of Bitcoin from 1st Oct 2013 to 18th May 2021\",\n",
        "          fontsize=16)\n",
        "plt.legend(fontsize=14);"
      ],
      "metadata": {
        "colab": {
          "base_uri": "https://localhost:8080/",
          "height": 463
        },
        "id": "CBdcCEehDFkE",
        "outputId": "1a5b8e9b-0ace-474c-cf91-43dc4a5cb45d"
      },
      "execution_count": 8,
      "outputs": [
        {
          "output_type": "stream",
          "name": "stderr",
          "text": [
            "WARNING:matplotlib.legend:No handles with labels found to put in legend.\n"
          ]
        },
        {
          "output_type": "display_data",
          "data": {
            "text/plain": [
              "<Figure size 720x504 with 1 Axes>"
            ],
            "image/png": "[encoded data removed]"
          },
          "metadata": {
            "needs_background": "light"
          }
        }
      ]
    },
    {
      "cell_type": "markdown",
      "source": [
        "## fORMAT DATA PART 1: CREATE TRAIN AND TEST SETS OF OUR TIME SERIES DATA"
      ],
      "metadata": {
        "id": "zc-k4PP2EF1Q"
      }
    },
    {
      "cell_type": "markdown",
      "source": [
        "## creating train and  test sets with time series data (the wrong way)"
      ],
      "metadata": {
        "id": "sWE_yCnpFTRQ"
      }
    },
    {
      "cell_type": "code",
      "source": [
        "# Get bitcoin date array\n",
        "timesetps = bitcoin_prices.index.to_numpy()\n",
        "prices = bitcoin_prices[\"Price\"].to_numpy()\n",
        "\n",
        "timesteps[:10], prices[:10]"
      ],
      "metadata": {
        "colab": {
          "base_uri": "https://localhost:8080/"
        },
        "id": "kZSg8sfNFcVI",
        "outputId": "a7dc8032-8857-42c6-aaf4-9e3bc39f558a"
      },
      "execution_count": 9,
      "outputs": [
        {
          "output_type": "execute_result",
          "data": {
            "text/plain": [
              "([datetime.datetime(2013, 10, 1, 0, 0),\n",
              "  datetime.datetime(2013, 10, 2, 0, 0),\n",
              "  datetime.datetime(2013, 10, 3, 0, 0),\n",
              "  datetime.datetime(2013, 10, 4, 0, 0),\n",
              "  datetime.datetime(2013, 10, 5, 0, 0),\n",
              "  datetime.datetime(2013, 10, 6, 0, 0),\n",
              "  datetime.datetime(2013, 10, 7, 0, 0),\n",
              "  datetime.datetime(2013, 10, 8, 0, 0),\n",
              "  datetime.datetime(2013, 10, 9, 0, 0),\n",
              "  datetime.datetime(2013, 10, 10, 0, 0)],\n",
              " array([123.65499, 125.455  , 108.58483, 118.67466, 121.33866, 120.65533,\n",
              "        121.795  , 123.033  , 124.049  , 125.96116]))"
            ]
          },
          "metadata": {},
          "execution_count": 9
        }
      ]
    },
    {
      "cell_type": "code",
      "source": [
        "#wrong way to make train/test sets for time seires data\n",
        "from sklearn.model_selection import train_test_split\n",
        "\n",
        "X_train, X_test, y_train, y_test = train_test_split(timesetps, # dates\n",
        "                                                    prices, # BTC prices\n",
        "                                                    test_size=0.2,\n",
        "                                                    random_state=42)\n",
        "\n",
        "X_train.shape, X_test.shape, y_train.shape, y_test.shape"
      ],
      "metadata": {
        "colab": {
          "base_uri": "https://localhost:8080/"
        },
        "id": "DtChD8KUGJJv",
        "outputId": "6f334d8b-0e6c-48d4-f26e-64e14aeff2b0"
      },
      "execution_count": 10,
      "outputs": [
        {
          "output_type": "execute_result",
          "data": {
            "text/plain": [
              "((2229,), (558,), (2229,), (558,))"
            ]
          },
          "metadata": {},
          "execution_count": 10
        }
      ]
    },
    {
      "cell_type": "code",
      "source": [
        "# Let's plot wrong train and test splits\n",
        "plt.figure(figsize=(10, 7))\n",
        "plt.scatter(X_train, y_train, s=5, label=\"Train data\")\n",
        "plt.scatter(X_test, y_test, s=5, label=\"Test data\")\n",
        "plt.xlabel(\"Date\")\n",
        "plt.ylabel(\"BTC Price\")\n",
        "plt.legend(fontsize=14)\n",
        "plt.show();"
      ],
      "metadata": {
        "colab": {
          "base_uri": "https://localhost:8080/",
          "height": 442
        },
        "id": "XffSrEauIhXx",
        "outputId": "6d48b142-62fd-40fb-a297-fcb523a1cd67"
      },
      "execution_count": 11,
      "outputs": [
        {
          "output_type": "display_data",
          "data": {
            "text/plain": [
              "<Figure size 720x504 with 1 Axes>"
            ],
            "image/png": "[encoded data removed]"
          },
          "metadata": {
            "needs_background": "light"
          }
        }
      ]
    },
    {
      "cell_type": "markdown",
      "source": [
        "## Create train and test sets for time series (the right way)"
      ],
      "metadata": {
        "id": "gVvJ3Fv0JwpN"
      }
    },
    {
      "cell_type": "code",
      "source": [
        "# Create train and test splits the right way for time series data\n",
        "split_size = int(0.8 * len(prices)) # 80% train, 20% test\n",
        "\n",
        "# Create train data splits (everything before the split)\n",
        "X_train, y_train = timesteps[:split_size], prices[:split_size]\n",
        "\n",
        "# Create test data splits (everything after the split)\n",
        "X_test, y_test = timesteps[split_size:], prices[split_size:]\n",
        "\n",
        "len(X_train), len(X_test), len(y_train), len(y_test)"
      ],
      "metadata": {
        "colab": {
          "base_uri": "https://localhost:8080/"
        },
        "id": "AdGPfQ23KBLv",
        "outputId": "9de5be93-5044-4818-e37d-d73e72bd3120"
      },
      "execution_count": 12,
      "outputs": [
        {
          "output_type": "execute_result",
          "data": {
            "text/plain": [
              "(2229, 558, 2229, 558)"
            ]
          },
          "metadata": {},
          "execution_count": 12
        }
      ]
    },
    {
      "cell_type": "code",
      "source": [
        "# Plot correctly made splits\n",
        "plt.figure(figsize=(10, 7))\n",
        "plt.scatter(X_train, y_train, s=5, label=\"Train data\")\n",
        "plt.scatter(X_test, y_test, s=5, label=\"Test data\")\n",
        "plt.xlabel(\"Date\")\n",
        "plt.ylabel(\"BTC Price\")\n",
        "plt.legend(fontsize=14)\n",
        "plt.show();"
      ],
      "metadata": {
        "colab": {
          "base_uri": "https://localhost:8080/",
          "height": 442
        },
        "id": "ndUq2SdPK6Nj",
        "outputId": "e017228e-8535-497d-e02b-61b629c27d45"
      },
      "execution_count": 13,
      "outputs": [
        {
          "output_type": "display_data",
          "data": {
            "text/plain": [
              "<Figure size 720x504 with 1 Axes>"
            ],
            "image/png": "[encoded data removed]"
          },
          "metadata": {
            "needs_background": "light"
          }
        }
      ]
    },
    {
      "cell_type": "markdown",
      "source": [
        "## Create a plotting function\n",
        "\n",
        "Typing plotting code is tedious lets functionize it"
      ],
      "metadata": {
        "id": "huQI7dBVK7I7"
      }
    },
    {
      "cell_type": "code",
      "source": [
        " #Create a function to plot time series data\n",
        "def plot_time_series(timesteps, values, format='.', start=0, end=None, label=None):\n",
        "  \"\"\"\n",
        "  Plots a timesteps (a series of points in time) against values (a series of values across timesteps).\n",
        "  \n",
        "  Parameters\n",
        "  ---------\n",
        "  timesteps : array of timesteps\n",
        "  values : array of values across time\n",
        "  format : style of plot, default \".\"\n",
        "  start : where to start the plot (setting a value will index from start of timesteps & values)\n",
        "  end : where to end the plot (setting a value will index from end of timesteps & values)\n",
        "  label : label to show on plot of values\n",
        "  \"\"\"\n",
        "  # Plot the series\n",
        "  plt.plot(timesteps[start:end], values[start:end], format, label=label)\n",
        "  plt.xlabel(\"Time\")\n",
        "  plt.ylabel(\"BTC Price\")\n",
        "  if label:\n",
        "    plt.legend(fontsize=14) # make label bigger\n",
        "  plt.grid(True)"
      ],
      "metadata": {
        "id": "E1urpuAxMEkm"
      },
      "execution_count": 14,
      "outputs": []
    },
    {
      "cell_type": "code",
      "source": [
        "# Try out our plotting function\n",
        "plt.figure(figsize=(10, 7))\n",
        "plot_time_series(timesteps=X_train, values=y_train, label=\"Train data\")\n",
        "plot_time_series(timesteps=X_test, values=y_test, label=\"Test data\")"
      ],
      "metadata": {
        "colab": {
          "base_uri": "https://localhost:8080/",
          "height": 442
        },
        "id": "tcQS_Hp1MGg7",
        "outputId": "aabf4eca-bf05-4bf1-8731-4120a962d5b7"
      },
      "execution_count": 15,
      "outputs": [
        {
          "output_type": "display_data",
          "data": {
            "text/plain": [
              "<Figure size 720x504 with 1 Axes>"
            ],
            "image/png": "[encoded data removed]"
          },
          "metadata": {
            "needs_background": "light"
          }
        }
      ]
    },
    {
      "cell_type": "markdown",
      "source": [
        "##  MODELLING EXPERIMENTS\n",
        "We've got some Bitcoin historical data, to model it, lets run a series of modelling experiments and see which model performs best\n",
        "\n",
        "\n",
        "Now, how about those modelling experiments?\n",
        "\n",
        "Model Number\tModel Type\n",
        "* **Horizon** = number of timesteps into the future we're going to predict\n",
        "*\t**Window size** =  number of timesteps we are going to use to predict **horizon**\n",
        "* 0\tNaïve model (baseline)\n",
        "* 1\tDense model, horizon=1,\twindow= 7\t\n",
        "* 2\tSame as 1, horizon=\t1, window= 30\t\n",
        "* 3\tSame as 1, horizon=7, window=30\t\n",
        "* 4\tConv1D\thorizon= 1, window= 7\t\n",
        "* 5\tLSTM\thorizon = 1,  window=\t7\t\n",
        "* 6\tSame as 1 (but with multivariate data)\t1\t7\tBlock reward size\n",
        "* 7\tN-BEATs Algorithm\t1\t7\tNA\n",
        "* 8\tEnsemble (multiple models optimized on different loss functions)\t1\t7\tNA\n",
        "* 9\tFuture prediction model (model to predict future values)\t1\t7\tNA\n",
        "* 10\tSame as 1 (but with turkey 🦃 data introduced)\t1\t7\tNA"
      ],
      "metadata": {
        "id": "Ua4_M_MQNyjI"
      }
    },
    {
      "cell_type": "markdown",
      "source": [
        "## Model 0: Naive forecast ( baseline)\n",
        "\n",
        "$$\\hat{y}_{t}=y_{t-1}$$\n",
        "\n",
        "The prediction at timestep t (y-hat) is equal to the value at timestep t-1 (the previous timestep)."
      ],
      "metadata": {
        "id": "B-7U9BCdVTWx"
      }
    },
    {
      "cell_type": "code",
      "source": [
        "## Create a naive forecast\n",
        "naive_forecast = y_test[:-1]\n",
        "\n",
        "naive_forecast[:10], naive_forecast[-10:]"
      ],
      "metadata": {
        "colab": {
          "base_uri": "https://localhost:8080/"
        },
        "id": "rvg1ldcDMLaz",
        "outputId": "23207a52-152e-4896-abf8-6c4f40d844f1"
      },
      "execution_count": 16,
      "outputs": [
        {
          "output_type": "execute_result",
          "data": {
            "text/plain": [
              "(array([9226.48582088, 8794.35864452, 8798.04205463, 9081.18687849,\n",
              "        8711.53433917, 8760.89271814, 8749.52059102, 8656.97092235,\n",
              "        8500.64355816, 8469.2608989 ]),\n",
              " array([57107.12067189, 58788.20967893, 58102.19142623, 55715.54665129,\n",
              "        56573.5554719 , 52147.82118698, 49764.1320816 , 50032.69313676,\n",
              "        47885.62525472, 45604.61575361]))"
            ]
          },
          "metadata": {},
          "execution_count": 16
        }
      ]
    },
    {
      "cell_type": "code",
      "source": [
        "# Plot naive forecast\n",
        "plt.figure(figsize=(10, 7))\n",
        "plot_time_series(timesteps=X_train, values=y_train, label=\"Train data\")\n",
        "plot_time_series(timesteps=X_test, values=y_test, label=\"Test data\")\n",
        "plot_time_series(timesteps=X_test[1:], values=naive_forecast, format=\"-\", label=\"Naive forecast\")"
      ],
      "metadata": {
        "colab": {
          "base_uri": "https://localhost:8080/",
          "height": 442
        },
        "id": "gL9kf5uUFTkr",
        "outputId": "20aa7c08-cb7b-4a9b-b575-8a919ed4beb9"
      },
      "execution_count": 17,
      "outputs": [
        {
          "output_type": "display_data",
          "data": {
            "text/plain": [
              "<Figure size 720x504 with 1 Axes>"
            ],
            "image/png": "[encoded data removed]"
          },
          "metadata": {
            "needs_background": "light"
          }
        }
      ]
    },
    {
      "cell_type": "markdown",
      "source": [
        "from matplotlib import docstring\n",
        "## Evaluating a time seires model\n",
        "\n",
        "Let's look into some evaluation metrics for time series forecasting\n",
        "\n",
        "\n",
        "What are we doing?\n",
        "\n",
        "We're predicting a number, so that  means we have a form of regression problem\n",
        "\n",
        "Beacuse we are working on a regression problem, we'll need some regression-like metrics\n",
        "\n",
        "A few common regression metrics (which can also be used for time series forecasting):\n",
        "\n",
        "* MAE- mean absolute error\n",
        "* MSE - mean squared error \n",
        "* RMSE - root mean square error\n",
        "* MAPE/sMaPE - (symmetric) mean absolute percentage error \n",
        "* MASE - mean absolute scaled error\n",
        "\n",
        "The main thing we are evaluating here is: **how do our models forecast (y_preds) compare against values (y_true or ground truth values)?**"
      ],
      "metadata": {
        "id": "ffg-JDfTGp5_"
      }
    },
    {
      "cell_type": "code",
      "source": [
        "import tensorflow as tf\n"
      ],
      "metadata": {
        "id": "avUwXyv6PTHu"
      },
      "execution_count": 18,
      "outputs": []
    },
    {
      "cell_type": "code",
      "source": [
        "# MASE implemented courtesy of sktime - https://github.com/alan-turing-institute/sktime/blob/ee7a06843a44f4aaec7582d847e36073a9ab0566/sktime/performance_metrics/forecasting/_functions.py#L16\n",
        "def mean_absolute_scaled_error(y_true, y_pred):\n",
        "  \"\"\"\n",
        "  Implement MASE (assuming no seasonality of data).\n",
        "  \"\"\"\n",
        "  mae = tf.reduce_mean(tf.abs(y_true - y_pred))\n",
        "\n",
        "  # Find MAE of naive forecast (no seasonality)\n",
        "  mae_naive_no_season = tf.reduce_mean(tf.abs(y_true[1:] - y_true[:-1])) # our seasonality is 1 day (hence the shifting of 1 day)\n",
        "\n",
        "  return mae / mae_naive_no_season"
      ],
      "metadata": {
        "id": "3hAi1HywSAAg"
      },
      "execution_count": 19,
      "outputs": []
    },
    {
      "cell_type": "code",
      "source": [
        "# Test MASE ( this value should = 1 or be very close to 1 with naive forecast)\n",
        "mean_absolute_scaled_error(y_true=y_test[1:], y_pred = naive_forecast).numpy()"
      ],
      "metadata": {
        "colab": {
          "base_uri": "https://localhost:8080/"
        },
        "id": "6mkEUvMdidOT",
        "outputId": "1c670a48-041d-4a70-8fd1-ffb66ed5bd0c"
      },
      "execution_count": 20,
      "outputs": [
        {
          "output_type": "execute_result",
          "data": {
            "text/plain": [
              "0.9995699939182624"
            ]
          },
          "metadata": {},
          "execution_count": 20
        }
      ]
    },
    {
      "cell_type": "code",
      "source": [
        "# create a function to take in model predictons and truth values and return evaluation\n",
        "def evaluate_preds(y_true, y_pred):\n",
        "  # Make sure float32 (for metric calculations)\n",
        "  y_true = tf.cast(y_true, dtype=tf.float32)\n",
        "  y_pred = tf.cast(y_pred, dtype=tf.float32)\n",
        "\n",
        "  # Calculate various metrics\n",
        "  mae = tf.keras.metrics.mean_absolute_error(y_true, y_pred)\n",
        "  mse = tf.keras.metrics.mean_squared_error(y_true, y_pred) # puts and emphasis on outliers (all errors get squared)\n",
        "  rmse = tf.sqrt(mse)\n",
        "  mape = tf.keras.metrics.mean_absolute_percentage_error(y_true, y_pred)\n",
        "  mase = mean_absolute_scaled_error(y_true, y_pred)\n",
        "  \n",
        "  return {\"mae\": mae.numpy(),\n",
        "          \"mse\": mse.numpy(),\n",
        "          \"rmse\": rmse.numpy(),\n",
        "          \"mape\": mape.numpy(),\n",
        "          \"mase\": mase.numpy()}"
      ],
      "metadata": {
        "id": "DuCdEsTQSWYm"
      },
      "execution_count": 21,
      "outputs": []
    },
    {
      "cell_type": "markdown",
      "source": [
        "That's one good looking evaluation function!\n",
        "\n",
        "lets now see if it works"
      ],
      "metadata": {
        "id": "SkWNTkNejGnV"
      }
    },
    {
      "cell_type": "code",
      "source": [
        "naive_results = evaluate_preds(y_true=y_test[1:],\n",
        "                               y_pred=naive_forecast)\n",
        "naive_results"
      ],
      "metadata": {
        "colab": {
          "base_uri": "https://localhost:8080/"
        },
        "id": "1yC6LpKASaR2",
        "outputId": "9a1e987f-523e-4d7b-b696-824fb8dc57ee"
      },
      "execution_count": 22,
      "outputs": [
        {
          "output_type": "execute_result",
          "data": {
            "text/plain": [
              "{'mae': 567.9802,\n",
              " 'mse': 1147547.0,\n",
              " 'rmse': 1071.2362,\n",
              " 'mape': 2.5165248,\n",
              " 'mase': 0.99957}"
            ]
          },
          "metadata": {},
          "execution_count": 22
        }
      ]
    },
    {
      "cell_type": "code",
      "source": [
        "naive_forecast[-10:]"
      ],
      "metadata": {
        "colab": {
          "base_uri": "https://localhost:8080/"
        },
        "id": "brXmUTcab1mf",
        "outputId": "731f7e32-cd57-453c-9cae-6ff263a2f131"
      },
      "execution_count": 23,
      "outputs": [
        {
          "output_type": "execute_result",
          "data": {
            "text/plain": [
              "array([57107.12067189, 58788.20967893, 58102.19142623, 55715.54665129,\n",
              "       56573.5554719 , 52147.82118698, 49764.1320816 , 50032.69313676,\n",
              "       47885.62525472, 45604.61575361])"
            ]
          },
          "metadata": {},
          "execution_count": 23
        }
      ]
    },
    {
      "cell_type": "code",
      "source": [
        "tf.reduce_mean(y_test)"
      ],
      "metadata": {
        "colab": {
          "base_uri": "https://localhost:8080/"
        },
        "id": "aQt6yqwmj_NP",
        "outputId": "72642cdc-1967-4b59-85eb-af9d836b73b3"
      },
      "execution_count": 24,
      "outputs": [
        {
          "output_type": "execute_result",
          "data": {
            "text/plain": [
              "<tf.Tensor: shape=(), dtype=float64, numpy=20056.632963737226>"
            ]
          },
          "metadata": {},
          "execution_count": 24
        }
      ]
    },
    {
      "cell_type": "code",
      "source": [
        "tf.reduce_min(y_test), tf.reduce_max(y_test)"
      ],
      "metadata": {
        "colab": {
          "base_uri": "https://localhost:8080/"
        },
        "id": "OwsUQfpIT_O8",
        "outputId": "53ff4c6a-a624-4c26-94ae-ff69c140490c"
      },
      "execution_count": 25,
      "outputs": [
        {
          "output_type": "execute_result",
          "data": {
            "text/plain": [
              "(<tf.Tensor: shape=(), dtype=float64, numpy=4944.7023359837>,\n",
              " <tf.Tensor: shape=(), dtype=float64, numpy=63346.7890351052>)"
            ]
          },
          "metadata": {},
          "execution_count": 25
        }
      ]
    },
    {
      "cell_type": "markdown",
      "source": [
        "other models you can use for baseline and actual forecasts\n",
        "\n",
        "Model/Library Name\tResource\n",
        "* Moving average\thttps://machinelearningmastery.com/moving-average-smoothing-for-time-series-forecasting-python/\n",
        "* ARIMA (Autoregression Integrated Moving Average)\thttps://machinelearningmastery.com/arima-for-time-series-forecasting-with-python/\n",
        "* sktime (Scikit-Learn for time series)\thttps://github.com/alan-turing-institute/sktime\n",
        "* TensorFlow Decision Forests (random forest, gradient boosting trees)\thttps://www.tensorflow.org/decision_forests\n",
        "* Facebook Kats (purpose-built forecasting and time series analysis library by Facebook)\thttps://github.com/facebookresearch/Kats\n",
        "* LinkedIn Greykite (flexible, intuitive and fast forecasts)\thttps://github.com/linkedin/greykite"
      ],
      "metadata": {
        "id": "8rxg_chMUHRE"
      }
    },
    {
      "cell_type": "markdown",
      "source": [
        "## Format Data part 2: Windowing ourdataset\n",
        "\n",
        "why do we window?\n",
        "\n",
        "We window our time series dataset to turn our data into a supervised learning problem\n",
        "\n",
        "Window for one week (univariate time series)\n",
        "\n",
        "[0, 1, 2, 3, 4, 5, 6] -> [7]\n",
        "\n",
        "[1, 2, 3, 4, 5, 6, 7] -> [8]\n",
        "\n",
        "[2, 3, 4, 5, 6, 7, 8] -> [9]"
      ],
      "metadata": {
        "id": "BJYK_EjaV2tn"
      }
    },
    {
      "cell_type": "code",
      "source": [
        "## what  we want to do with our Bitcoin data\n",
        "print(f\"We want to use: {btc_price[:7]} to predict this: {btc_price[7]} \")"
      ],
      "metadata": {
        "colab": {
          "base_uri": "https://localhost:8080/"
        },
        "id": "l2AKTp5TWLw7",
        "outputId": "0d860029-864b-49d3-f7e6-9524472df60e"
      },
      "execution_count": 26,
      "outputs": [
        {
          "output_type": "stream",
          "name": "stdout",
          "text": [
            "We want to use: [123.65499, 125.455, 108.58483, 118.67466, 121.33866, 120.65533, 121.795] to predict this: 123.033 \n"
          ]
        }
      ]
    },
    {
      "cell_type": "code",
      "source": [
        "\n",
        "# lets setup a global variables for window and horizon data\n",
        "HORIZON =1 # predict next 1  day\n",
        "WINDOW_SIZE = 7 # use the past week of bitcoin data and make a prediction"
      ],
      "metadata": {
        "id": "n3o35EoCXJOZ"
      },
      "execution_count": 27,
      "outputs": []
    },
    {
      "cell_type": "code",
      "source": [
        "# Create function to label windowed data\n",
        "def get_labelled_windows(x, horizon=1):\n",
        "  \"\"\"\n",
        "  Creates labels for windowed dataset.\n",
        "\n",
        "  E.g. if horizon=1 (default)\n",
        "  Input: [1, 2, 3, 4, 5, 6] -> Output: ([1, 2, 3, 4, 5], [6])\n",
        "  \"\"\"\n",
        "  return x[:, :-horizon], x[:, -horizon:]"
      ],
      "metadata": {
        "id": "TDvwwV6VXiCX"
      },
      "execution_count": 28,
      "outputs": []
    },
    {
      "cell_type": "code",
      "source": [
        "# Test out the window labelling function\n",
        "test_window, test_label = get_labelled_windows(tf.expand_dims(tf.range(8)+1 , axis=0 ))\n",
        "test_window, test_label"
      ],
      "metadata": {
        "colab": {
          "base_uri": "https://localhost:8080/"
        },
        "id": "ScibIshFYBhA",
        "outputId": "67461106-74a5-4669-cd3f-07fc36c415d6"
      },
      "execution_count": 29,
      "outputs": [
        {
          "output_type": "execute_result",
          "data": {
            "text/plain": [
              "(<tf.Tensor: shape=(1, 7), dtype=int32, numpy=array([[1, 2, 3, 4, 5, 6, 7]], dtype=int32)>,\n",
              " <tf.Tensor: shape=(1, 1), dtype=int32, numpy=array([[8]], dtype=int32)>)"
            ]
          },
          "metadata": {},
          "execution_count": 29
        }
      ]
    },
    {
      "cell_type": "code",
      "source": [
        "# Test out the window labelling function\n",
        "test_window, test_label = get_labelled_windows(tf.expand_dims(tf.range(8)+1, axis=0), horizon=HORIZON)\n",
        "print(f\"Window: {tf.squeeze(test_window).numpy()} -> Label: {tf.squeeze(test_label).numpy()}\")"
      ],
      "metadata": {
        "colab": {
          "base_uri": "https://localhost:8080/"
        },
        "id": "YhV3oDrHYclP",
        "outputId": "3c8233e7-2785-453a-c373-1e9e68cf5310"
      },
      "execution_count": 30,
      "outputs": [
        {
          "output_type": "stream",
          "name": "stdout",
          "text": [
            "Window: [1 2 3 4 5 6 7] -> Label: 8\n"
          ]
        }
      ]
    },
    {
      "cell_type": "markdown",
      "source": [
        "We've got a way to label our windowed data.\n",
        "However, this only works on a small scale.\n",
        "We need a way to do the above across our entire time series...\n",
        "\n",
        "\n",
        "we could do this with python for loops, however, for large series, that be quite slow... \n",
        "To speed things up, we will leverage Numpy's array indexing\n",
        "\n",
        "To speed things up, we'll leverage NumPy's array indexing.\n",
        "\n",
        "Let's write a function which:\n",
        "\n",
        "1. Creates a window step of specific window size, for example: [[0, 1, 2, 3, 4, 5, 6, 7]]\n",
        "2. Uses NumPy indexing to create a 2D of multiple window steps, for example:\n",
        "\n",
        "[[0, 1, 2, 3, 4, 5, 6, 7],\n",
        "[1, 2, 3, 4, 5, 6, 7, 8],\n",
        "[2, 3, 4, 5, 6, 7, 8, 9]]\n",
        "\n",
        "3. Uses the 2D array of multuple window steps to index on a target series(e.g the historical price of Bitcoin)\n",
        "\n",
        "4. Uses the get_labelled_windows() function we created above to turn the window steps into windows with a specified horizon"
      ],
      "metadata": {
        "id": "WzyCCmDpbtKg"
      }
    },
    {
      "cell_type": "code",
      "source": [
        "import numpy as np\n",
        "\n",
        "# Create function to view NumPy arrays as windows \n",
        "def make_windows(x, window_size=7, horizon=1):\n",
        "  \"\"\"\n",
        "  Turns a 1D array into a 2D array of sequential windows of window_size.\n",
        "  \"\"\"\n",
        "  # 1. Create a window of specific window_size (add the horizon on the end for later labelling)\n",
        "  window_step = np.expand_dims(np.arange(window_size+horizon), axis=0)\n",
        "  # print(f\"Window step:\\n {window_step}\")\n",
        "\n",
        "  # 2. Create a 2D array of multiple window steps (minus 1 to account for 0 indexing)\n",
        "  window_indexes = window_step + np.expand_dims(np.arange(len(x)-(window_size+horizon-1)), axis=0).T # create 2D array of windows of size window_size\n",
        "  # print(f\"Window indexes:\\n {window_indexes[:3], window_indexes[-3:], window_indexes.shape}\")\n",
        "\n",
        "  # 3. Index on the target array (time series) with 2D array of multiple window steps\n",
        "  windowed_array = x[window_indexes]\n",
        "\n",
        "  # 4. Get the labelled windows\n",
        "  windows, labels = get_labelled_windows(windowed_array, horizon=horizon)\n",
        "\n",
        "  return windows, labels"
      ],
      "metadata": {
        "id": "KllgV3lwY4F2"
      },
      "execution_count": 31,
      "outputs": []
    },
    {
      "cell_type": "code",
      "source": [
        "np.expand_dims(np.arange(8), axis=0)"
      ],
      "metadata": {
        "colab": {
          "base_uri": "https://localhost:8080/"
        },
        "id": "HUhcvLUJo77o",
        "outputId": "502a2914-b8c8-4386-b573-33836844c3e6"
      },
      "execution_count": 32,
      "outputs": [
        {
          "output_type": "execute_result",
          "data": {
            "text/plain": [
              "array([[0, 1, 2, 3, 4, 5, 6, 7]])"
            ]
          },
          "metadata": {},
          "execution_count": 32
        }
      ]
    },
    {
      "cell_type": "code",
      "source": [
        "full_windows, full_labels = make_windows(prices, window_size=WINDOW_SIZE, horizon=HORIZON)\n",
        "len(full_windows), len(full_labels)"
      ],
      "metadata": {
        "colab": {
          "base_uri": "https://localhost:8080/"
        },
        "id": "lBxmPET4o-z7",
        "outputId": "2ca51659-a251-4c0f-b021-99cd09ffd018"
      },
      "execution_count": 33,
      "outputs": [
        {
          "output_type": "execute_result",
          "data": {
            "text/plain": [
              "(2780, 2780)"
            ]
          },
          "metadata": {},
          "execution_count": 33
        }
      ]
    },
    {
      "cell_type": "code",
      "source": [
        "# View the first 3 windows/labels\n",
        "for i in range(3):\n",
        "  print(f\"Window: {full_windows[i]} -> Label: {full_labels[i]}\")"
      ],
      "metadata": {
        "colab": {
          "base_uri": "https://localhost:8080/"
        },
        "id": "6TE66X5srOrJ",
        "outputId": "a4a0e4c1-e1eb-489f-e016-3a047f2bc11b"
      },
      "execution_count": 34,
      "outputs": [
        {
          "output_type": "stream",
          "name": "stdout",
          "text": [
            "Window: [123.65499 125.455   108.58483 118.67466 121.33866 120.65533 121.795  ] -> Label: [123.033]\n",
            "Window: [125.455   108.58483 118.67466 121.33866 120.65533 121.795   123.033  ] -> Label: [124.049]\n",
            "Window: [108.58483 118.67466 121.33866 120.65533 121.795   123.033   124.049  ] -> Label: [125.96116]\n"
          ]
        }
      ]
    },
    {
      "cell_type": "code",
      "source": [
        "# View the last 3 windows/labels\n",
        "for i in range(3):\n",
        "  print(f\"Window: {full_windows[i-3]} -> Label: {full_labels[i-3]}\")\n",
        "  "
      ],
      "metadata": {
        "colab": {
          "base_uri": "https://localhost:8080/"
        },
        "id": "hHdcSF5Urm8g",
        "outputId": "5abda699-4d70-4dda-d4ea-ad8065450819"
      },
      "execution_count": 35,
      "outputs": [
        {
          "output_type": "stream",
          "name": "stdout",
          "text": [
            "Window: [58788.20967893 58102.19142623 55715.54665129 56573.5554719\n",
            " 52147.82118698 49764.1320816  50032.69313676] -> Label: [47885.62525472]\n",
            "Window: [58102.19142623 55715.54665129 56573.5554719  52147.82118698\n",
            " 49764.1320816  50032.69313676 47885.62525472] -> Label: [45604.61575361]\n",
            "Window: [55715.54665129 56573.5554719  52147.82118698 49764.1320816\n",
            " 50032.69313676 47885.62525472 45604.61575361] -> Label: [43144.47129086]\n"
          ]
        }
      ]
    },
    {
      "cell_type": "markdown",
      "source": [
        "🔑 Note: You can find a function which achieves similar results to the ones we implemented above at tf.keras.preprocessing.timeseries_dataset_from_array(). Just like ours, it takes in an array and returns a windowed dataset. It has the benefit of returning data in the form of a tf.data.Dataset instance (we'll see how to do this with our own data later)."
      ],
      "metadata": {
        "id": "p8a09TKNsLCR"
      }
    },
    {
      "cell_type": "markdown",
      "source": [
        "## Turning windows into training and test"
      ],
      "metadata": {
        "id": "l1dTS3TNrqOR"
      }
    },
    {
      "cell_type": "code",
      "source": [
        "# Make the train/test splits\n",
        "def make_train_test_splits(windows, labels, test_split=0.2):\n",
        "  \"\"\"\n",
        "  Splits matching pairs of windows and labels into train and test splits.\n",
        "  \"\"\"\n",
        "  split_size = int(len(windows) * (1-test_split)) # this will default to 80% train/20% test\n",
        "  train_windows = windows[:split_size]\n",
        "  train_labels = labels[:split_size]\n",
        "  test_windows = windows[split_size:]\n",
        "  test_labels = labels[split_size:]\n",
        "  return train_windows, test_windows, train_labels, test_labels"
      ],
      "metadata": {
        "id": "LbNTacWsmj_1"
      },
      "execution_count": 36,
      "outputs": []
    },
    {
      "cell_type": "code",
      "source": [
        "train_windows, test_windows, train_labels, test_labels = make_train_test_splits(full_windows, full_labels)\n",
        "len(train_windows), len(test_windows), len(train_labels), len(test_labels)"
      ],
      "metadata": {
        "colab": {
          "base_uri": "https://localhost:8080/"
        },
        "id": "bDibnv_moRLN",
        "outputId": "7d9fc5a5-d98f-4557-863c-ea5d82e77b19"
      },
      "execution_count": 37,
      "outputs": [
        {
          "output_type": "execute_result",
          "data": {
            "text/plain": [
              "(2224, 556, 2224, 556)"
            ]
          },
          "metadata": {},
          "execution_count": 37
        }
      ]
    },
    {
      "cell_type": "code",
      "source": [
        "train_windows[:5], train_labels[:5]"
      ],
      "metadata": {
        "colab": {
          "base_uri": "https://localhost:8080/"
        },
        "id": "fNuT4GdPoR5t",
        "outputId": "f935949c-a2ec-4d08-f2e7-20f750da798f"
      },
      "execution_count": 38,
      "outputs": [
        {
          "output_type": "execute_result",
          "data": {
            "text/plain": [
              "(array([[123.65499, 125.455  , 108.58483, 118.67466, 121.33866, 120.65533,\n",
              "         121.795  ],\n",
              "        [125.455  , 108.58483, 118.67466, 121.33866, 120.65533, 121.795  ,\n",
              "         123.033  ],\n",
              "        [108.58483, 118.67466, 121.33866, 120.65533, 121.795  , 123.033  ,\n",
              "         124.049  ],\n",
              "        [118.67466, 121.33866, 120.65533, 121.795  , 123.033  , 124.049  ,\n",
              "         125.96116],\n",
              "        [121.33866, 120.65533, 121.795  , 123.033  , 124.049  , 125.96116,\n",
              "         125.27966]]), array([[123.033  ],\n",
              "        [124.049  ],\n",
              "        [125.96116],\n",
              "        [125.27966],\n",
              "        [125.9275 ]]))"
            ]
          },
          "metadata": {},
          "execution_count": 38
        }
      ]
    },
    {
      "cell_type": "code",
      "source": [
        "# Check to see if same (accounting for horizon and window size)\n",
        "np.array_equal(np.squeeze(train_labels[:-HORIZON-1]), y_train[WINDOW_SIZE:])"
      ],
      "metadata": {
        "colab": {
          "base_uri": "https://localhost:8080/"
        },
        "id": "xbIatootoU98",
        "outputId": "0fddff4d-33a1-469a-ed51-13adf4ef004a"
      },
      "execution_count": 39,
      "outputs": [
        {
          "output_type": "execute_result",
          "data": {
            "text/plain": [
              "True"
            ]
          },
          "metadata": {},
          "execution_count": 39
        }
      ]
    },
    {
      "cell_type": "markdown",
      "source": [
        "## Make a modelling checkpoint\n",
        "\n",
        "Because our model's performance will flunctuate from experimments to experiment, we are going to write a model checkpoint so we can compare apples to apples.\n",
        "\n",
        "More specifically, we want to comapre each of our model's best performances against the other model's best performance_metrics\n",
        "\n",
        "For example if our model performs the best on epoch 55 (but we're trainng for 100 epochs), we want to load and evaluate the model saved on model 55"
      ],
      "metadata": {
        "id": "Es3S4dCdobwr"
      }
    },
    {
      "cell_type": "code",
      "source": [
        "import os\n",
        "\n",
        "# Create a function to implement a ModelCheckpoint callback with a specific filename \n",
        "def create_model_checkpoint(model_name, save_path=\"model_experiments\"):\n",
        "  return tf.keras.callbacks.ModelCheckpoint(filepath=os.path.join(save_path, model_name), # create filepath to save model\n",
        "                                            verbose=0, # only output a limited amount of text\n",
        "                                            save_best_only=True) # save only the best model to file"
      ],
      "metadata": {
        "id": "PO01dI6KqrX0"
      },
      "execution_count": 40,
      "outputs": []
    },
    {
      "cell_type": "markdown",
      "source": [
        "## Moel 1: Dense model (window=7, horizon =1)\n",
        "using 7 days to predict one data\n",
        "\n",
        "Our first deep model is going to be a simple dense model:\n",
        "* A single dense layer with 128 hidden units and Relu\n",
        "* An output layer with linear activation (no activation)\n",
        "* Adam optimization and MAE loss function\n",
        "* Batch size of 128 (previously we ve used 32)\n",
        "* 100 epochs\n",
        "\n",
        "why these values?\n",
        "\n",
        "I picked them out of experimentation.\n",
        "\n",
        "* **Hyperparameters** - values a machine learning practitioner can adjust themselves\n",
        "* **Parameters** = values a model learns on its own"
      ],
      "metadata": {
        "id": "jSe7H4NCrERr"
      }
    },
    {
      "cell_type": "code",
      "source": [
        "import tensorflow as tf\n",
        "from tensorflow.keras import layers\n",
        "\n",
        "# Set random seed for as reproducible results as possible\n",
        "tf.random.set_seed(42)\n",
        "\n",
        "# Construct model\n",
        "model_1 = tf.keras.Sequential([\n",
        "  layers.Dense(128, activation=\"relu\"),\n",
        "  layers.Dense(HORIZON, activation=\"linear\") # linear activation is the same as having no activation                        \n",
        "], name=\"model_1_dense\") # give the model a name so we can save it\n",
        "\n",
        "# Compile model\n",
        "model_1.compile(loss=\"mae\",\n",
        "                optimizer=tf.keras.optimizers.Adam(),\n",
        "                metrics=[\"mae\"]) # we don't necessarily need this when the loss function is already MAE\n",
        "\n",
        "# Fit model\n",
        "model_1.fit(x=train_windows, # train windows of 7 timesteps of Bitcoin prices\n",
        "            y=train_labels, # horizon value of 1 (using the previous 7 timesteps to predict next day)\n",
        "            epochs=100,\n",
        "            verbose=1,\n",
        "            batch_size=128,\n",
        "            validation_data=(test_windows, test_labels),\n",
        "            callbacks=[create_model_checkpoint(model_name=model_1.name)]) # create ModelCheckpoint callback to save best model"
      ],
      "metadata": {
        "colab": {
          "base_uri": "https://localhost:8080/"
        },
        "id": "NNdfd88bsN55",
        "outputId": "06cb8134-3683-4b11-aec5-9c1f39d96ebe"
      },
      "execution_count": 41,
      "outputs": [
        {
          "output_type": "stream",
          "name": "stdout",
          "text": [
            "Epoch 1/100\n",
            "18/18 [==============================] - 1s 46ms/step - loss: 780.3469 - mae: 780.3469 - val_loss: 2279.5828 - val_mae: 2279.5828\n",
            "Epoch 2/100\n",
            "18/18 [==============================] - 0s 29ms/step - loss: 247.6765 - mae: 247.6765 - val_loss: 1005.9864 - val_mae: 1005.9864\n",
            "Epoch 3/100\n",
            "18/18 [==============================] - 0s 28ms/step - loss: 188.4107 - mae: 188.4107 - val_loss: 923.2859 - val_mae: 923.2859\n",
            "Epoch 4/100\n",
            "18/18 [==============================] - 1s 30ms/step - loss: 169.4334 - mae: 169.4334 - val_loss: 900.5932 - val_mae: 900.5932\n",
            "Epoch 5/100\n",
            "18/18 [==============================] - 1s 29ms/step - loss: 165.0900 - mae: 165.0900 - val_loss: 895.2405 - val_mae: 895.2405\n",
            "Epoch 6/100\n",
            "18/18 [==============================] - 1s 29ms/step - loss: 158.5206 - mae: 158.5206 - val_loss: 855.1868 - val_mae: 855.1868\n",
            "Epoch 7/100\n",
            "18/18 [==============================] - 0s 28ms/step - loss: 151.3568 - mae: 151.3568 - val_loss: 840.9290 - val_mae: 840.9290\n",
            "Epoch 8/100\n",
            "18/18 [==============================] - 0s 28ms/step - loss: 145.2560 - mae: 145.2560 - val_loss: 803.6005 - val_mae: 803.6005\n",
            "Epoch 9/100\n",
            "18/18 [==============================] - 1s 40ms/step - loss: 144.3546 - mae: 144.3546 - val_loss: 799.5592 - val_mae: 799.5592\n",
            "Epoch 10/100\n",
            "18/18 [==============================] - 0s 27ms/step - loss: 141.2944 - mae: 141.2944 - val_loss: 763.5060 - val_mae: 763.5060\n",
            "Epoch 11/100\n",
            "18/18 [==============================] - 0s 4ms/step - loss: 135.6591 - mae: 135.6591 - val_loss: 771.3525 - val_mae: 771.3525\n",
            "Epoch 12/100\n",
            "18/18 [==============================] - 0s 4ms/step - loss: 134.1702 - mae: 134.1702 - val_loss: 782.8326 - val_mae: 782.8325\n",
            "Epoch 13/100\n",
            "18/18 [==============================] - 0s 3ms/step - loss: 134.6014 - mae: 134.6014 - val_loss: 784.4728 - val_mae: 784.4728\n",
            "Epoch 14/100\n",
            "18/18 [==============================] - 1s 55ms/step - loss: 130.6125 - mae: 130.6125 - val_loss: 751.3470 - val_mae: 751.3470\n",
            "Epoch 15/100\n",
            "18/18 [==============================] - 1s 59ms/step - loss: 128.8352 - mae: 128.8352 - val_loss: 696.5837 - val_mae: 696.5837\n",
            "Epoch 16/100\n",
            "18/18 [==============================] - 0s 5ms/step - loss: 124.8667 - mae: 124.8667 - val_loss: 707.2988 - val_mae: 707.2988\n",
            "Epoch 17/100\n",
            "18/18 [==============================] - 0s 5ms/step - loss: 123.6096 - mae: 123.6096 - val_loss: 714.2291 - val_mae: 714.2291\n",
            "Epoch 18/100\n",
            "18/18 [==============================] - 1s 61ms/step - loss: 122.3023 - mae: 122.3023 - val_loss: 669.1414 - val_mae: 669.1414\n",
            "Epoch 19/100\n",
            "18/18 [==============================] - 0s 6ms/step - loss: 121.4932 - mae: 121.4932 - val_loss: 721.5452 - val_mae: 721.5452\n",
            "Epoch 20/100\n",
            "18/18 [==============================] - 1s 52ms/step - loss: 119.2384 - mae: 119.2384 - val_loss: 658.0786 - val_mae: 658.0786\n",
            "Epoch 21/100\n",
            "18/18 [==============================] - 1s 62ms/step - loss: 121.5293 - mae: 121.5293 - val_loss: 638.3386 - val_mae: 638.3386\n",
            "Epoch 22/100\n",
            "18/18 [==============================] - 0s 7ms/step - loss: 119.3422 - mae: 119.3422 - val_loss: 678.8881 - val_mae: 678.8881\n",
            "Epoch 23/100\n",
            "18/18 [==============================] - 0s 4ms/step - loss: 122.8203 - mae: 122.8203 - val_loss: 651.8512 - val_mae: 651.8512\n",
            "Epoch 24/100\n",
            "18/18 [==============================] - 1s 45ms/step - loss: 117.0774 - mae: 117.0774 - val_loss: 623.5611 - val_mae: 623.5611\n",
            "Epoch 25/100\n",
            "18/18 [==============================] - 1s 63ms/step - loss: 115.1816 - mae: 115.1816 - val_loss: 618.5576 - val_mae: 618.5576\n",
            "Epoch 26/100\n",
            "18/18 [==============================] - 1s 55ms/step - loss: 115.0673 - mae: 115.0673 - val_loss: 616.4918 - val_mae: 616.4918\n",
            "Epoch 27/100\n",
            "18/18 [==============================] - 0s 8ms/step - loss: 116.6431 - mae: 116.6431 - val_loss: 619.0472 - val_mae: 619.0472\n",
            "Epoch 28/100\n",
            "18/18 [==============================] - 1s 54ms/step - loss: 114.0328 - mae: 114.0328 - val_loss: 610.3879 - val_mae: 610.3879\n",
            "Epoch 29/100\n",
            "18/18 [==============================] - 0s 8ms/step - loss: 113.4892 - mae: 113.4892 - val_loss: 617.2401 - val_mae: 617.2401\n",
            "Epoch 30/100\n",
            "18/18 [==============================] - 1s 61ms/step - loss: 116.4094 - mae: 116.4094 - val_loss: 603.6490 - val_mae: 603.6490\n",
            "Epoch 31/100\n",
            "18/18 [==============================] - 0s 9ms/step - loss: 112.3454 - mae: 112.3454 - val_loss: 623.4434 - val_mae: 623.4434\n",
            "Epoch 32/100\n",
            "18/18 [==============================] - 1s 47ms/step - loss: 113.2056 - mae: 113.2056 - val_loss: 600.0261 - val_mae: 600.0261\n",
            "Epoch 33/100\n",
            "18/18 [==============================] - 0s 4ms/step - loss: 112.9529 - mae: 112.9529 - val_loss: 653.0604 - val_mae: 653.0604\n",
            "Epoch 34/100\n",
            "18/18 [==============================] - 1s 61ms/step - loss: 112.1157 - mae: 112.1157 - val_loss: 594.7913 - val_mae: 594.7913\n",
            "Epoch 35/100\n",
            "18/18 [==============================] - 1s 57ms/step - loss: 110.7447 - mae: 110.7447 - val_loss: 592.7401 - val_mae: 592.7401\n",
            "Epoch 36/100\n",
            "18/18 [==============================] - 1s 76ms/step - loss: 116.3301 - mae: 116.3301 - val_loss: 592.4697 - val_mae: 592.4697\n",
            "Epoch 37/100\n",
            "18/18 [==============================] - 0s 3ms/step - loss: 110.7676 - mae: 110.7676 - val_loss: 618.5350 - val_mae: 618.5350\n",
            "Epoch 38/100\n",
            "18/18 [==============================] - 0s 4ms/step - loss: 112.5935 - mae: 112.5935 - val_loss: 613.9557 - val_mae: 613.9557\n",
            "Epoch 39/100\n",
            "18/18 [==============================] - 1s 56ms/step - loss: 110.1321 - mae: 110.1321 - val_loss: 586.6888 - val_mae: 586.6888\n",
            "Epoch 40/100\n",
            "18/18 [==============================] - 0s 7ms/step - loss: 109.4753 - mae: 109.4753 - val_loss: 593.9153 - val_mae: 593.9153\n",
            "Epoch 41/100\n",
            "18/18 [==============================] - 1s 64ms/step - loss: 110.1777 - mae: 110.1777 - val_loss: 586.4465 - val_mae: 586.4465\n",
            "Epoch 42/100\n",
            "18/18 [==============================] - 0s 3ms/step - loss: 111.5192 - mae: 111.5192 - val_loss: 649.3650 - val_mae: 649.3650\n",
            "Epoch 43/100\n",
            "18/18 [==============================] - 0s 8ms/step - loss: 115.8939 - mae: 115.8939 - val_loss: 686.8293 - val_mae: 686.8293\n",
            "Epoch 44/100\n",
            "18/18 [==============================] - 0s 7ms/step - loss: 123.0945 - mae: 123.0945 - val_loss: 661.1304 - val_mae: 661.1304\n",
            "Epoch 45/100\n",
            "18/18 [==============================] - 0s 4ms/step - loss: 113.8169 - mae: 113.8169 - val_loss: 626.8177 - val_mae: 626.8177\n",
            "Epoch 46/100\n",
            "18/18 [==============================] - 0s 4ms/step - loss: 114.0971 - mae: 114.0971 - val_loss: 588.7769 - val_mae: 588.7769\n",
            "Epoch 47/100\n",
            "18/18 [==============================] - 0s 4ms/step - loss: 108.9936 - mae: 108.9936 - val_loss: 636.0583 - val_mae: 636.0583\n",
            "Epoch 48/100\n",
            "18/18 [==============================] - 0s 15ms/step - loss: 109.2967 - mae: 109.2967 - val_loss: 604.1586 - val_mae: 604.1586\n",
            "Epoch 49/100\n",
            "18/18 [==============================] - 0s 5ms/step - loss: 111.7787 - mae: 111.7787 - val_loss: 591.5096 - val_mae: 591.5096\n",
            "Epoch 50/100\n",
            "18/18 [==============================] - 0s 3ms/step - loss: 111.7319 - mae: 111.7319 - val_loss: 636.4677 - val_mae: 636.4677\n",
            "Epoch 51/100\n",
            "18/18 [==============================] - 0s 3ms/step - loss: 110.7498 - mae: 110.7498 - val_loss: 589.2878 - val_mae: 589.2878\n",
            "Epoch 52/100\n",
            "18/18 [==============================] - 0s 5ms/step - loss: 111.5193 - mae: 111.5193 - val_loss: 609.5289 - val_mae: 609.5289\n",
            "Epoch 53/100\n",
            "18/18 [==============================] - 1s 45ms/step - loss: 113.9868 - mae: 113.9868 - val_loss: 584.7471 - val_mae: 584.7471\n",
            "Epoch 54/100\n",
            "18/18 [==============================] - 1s 38ms/step - loss: 110.1075 - mae: 110.1075 - val_loss: 578.7416 - val_mae: 578.7416\n",
            "Epoch 55/100\n",
            "18/18 [==============================] - 0s 4ms/step - loss: 110.6423 - mae: 110.6423 - val_loss: 581.5333 - val_mae: 581.5333\n",
            "Epoch 56/100\n",
            "18/18 [==============================] - 0s 12ms/step - loss: 107.6537 - mae: 107.6537 - val_loss: 759.0189 - val_mae: 759.0189\n",
            "Epoch 57/100\n",
            "18/18 [==============================] - 0s 5ms/step - loss: 119.2012 - mae: 119.2012 - val_loss: 603.5953 - val_mae: 603.5953\n",
            "Epoch 58/100\n",
            "18/18 [==============================] - 0s 8ms/step - loss: 116.4417 - mae: 116.4417 - val_loss: 583.7296 - val_mae: 583.7296\n",
            "Epoch 59/100\n",
            "18/18 [==============================] - 0s 8ms/step - loss: 109.9014 - mae: 109.9014 - val_loss: 592.8416 - val_mae: 592.8416\n",
            "Epoch 60/100\n",
            "18/18 [==============================] - 0s 5ms/step - loss: 107.7859 - mae: 107.7859 - val_loss: 593.4969 - val_mae: 593.4969\n",
            "Epoch 61/100\n",
            "18/18 [==============================] - 1s 52ms/step - loss: 107.6960 - mae: 107.6960 - val_loss: 575.5123 - val_mae: 575.5123\n",
            "Epoch 62/100\n",
            "18/18 [==============================] - 0s 4ms/step - loss: 107.1257 - mae: 107.1257 - val_loss: 580.2645 - val_mae: 580.2645\n",
            "Epoch 63/100\n",
            "18/18 [==============================] - 0s 3ms/step - loss: 111.8451 - mae: 111.8451 - val_loss: 654.6143 - val_mae: 654.6143\n",
            "Epoch 64/100\n",
            "18/18 [==============================] - 0s 4ms/step - loss: 110.3121 - mae: 110.3121 - val_loss: 610.7810 - val_mae: 610.7810\n",
            "Epoch 65/100\n",
            "18/18 [==============================] - 1s 64ms/step - loss: 109.7098 - mae: 109.7098 - val_loss: 573.9960 - val_mae: 573.9960\n",
            "Epoch 66/100\n",
            "18/18 [==============================] - 1s 48ms/step - loss: 106.8139 - mae: 106.8139 - val_loss: 572.9989 - val_mae: 572.9989\n",
            "Epoch 67/100\n",
            "18/18 [==============================] - 0s 3ms/step - loss: 106.1394 - mae: 106.1394 - val_loss: 602.1524 - val_mae: 602.1524\n",
            "Epoch 68/100\n",
            "18/18 [==============================] - 0s 4ms/step - loss: 112.9245 - mae: 112.9245 - val_loss: 687.6375 - val_mae: 687.6375\n",
            "Epoch 69/100\n",
            "18/18 [==============================] - 0s 5ms/step - loss: 126.9916 - mae: 126.9916 - val_loss: 664.9473 - val_mae: 664.9473\n",
            "Epoch 70/100\n",
            "18/18 [==============================] - 0s 7ms/step - loss: 124.8734 - mae: 124.8734 - val_loss: 619.6686 - val_mae: 619.6686\n",
            "Epoch 71/100\n",
            "18/18 [==============================] - 0s 12ms/step - loss: 109.8522 - mae: 109.8522 - val_loss: 582.3637 - val_mae: 582.3637\n",
            "Epoch 72/100\n",
            "18/18 [==============================] - 0s 3ms/step - loss: 107.6717 - mae: 107.6717 - val_loss: 573.4947 - val_mae: 573.4947\n",
            "Epoch 73/100\n",
            "18/18 [==============================] - 0s 3ms/step - loss: 109.6036 - mae: 109.6036 - val_loss: 583.9045 - val_mae: 583.9045\n",
            "Epoch 74/100\n",
            "18/18 [==============================] - 1s 41ms/step - loss: 107.7049 - mae: 107.7049 - val_loss: 572.9933 - val_mae: 572.9933\n",
            "Epoch 75/100\n",
            "18/18 [==============================] - 0s 4ms/step - loss: 108.1179 - mae: 108.1179 - val_loss: 583.9372 - val_mae: 583.9372\n",
            "Epoch 76/100\n",
            "18/18 [==============================] - 0s 3ms/step - loss: 109.5447 - mae: 109.5447 - val_loss: 592.8235 - val_mae: 592.8235\n",
            "Epoch 77/100\n",
            "18/18 [==============================] - 0s 3ms/step - loss: 108.3639 - mae: 108.3639 - val_loss: 575.4260 - val_mae: 575.4260\n",
            "Epoch 78/100\n",
            "18/18 [==============================] - 0s 5ms/step - loss: 108.0055 - mae: 108.0055 - val_loss: 574.3941 - val_mae: 574.3941\n",
            "Epoch 79/100\n",
            "18/18 [==============================] - 0s 7ms/step - loss: 107.3223 - mae: 107.3223 - val_loss: 597.2478 - val_mae: 597.2478\n",
            "Epoch 80/100\n",
            "18/18 [==============================] - 0s 3ms/step - loss: 108.1452 - mae: 108.1452 - val_loss: 586.6866 - val_mae: 586.6866\n",
            "Epoch 81/100\n",
            "18/18 [==============================] - 0s 4ms/step - loss: 106.1153 - mae: 106.1153 - val_loss: 575.1765 - val_mae: 575.1765\n",
            "Epoch 82/100\n",
            "18/18 [==============================] - 0s 4ms/step - loss: 116.6344 - mae: 116.6344 - val_loss: 575.4340 - val_mae: 575.4340\n",
            "Epoch 83/100\n",
            "18/18 [==============================] - 0s 6ms/step - loss: 110.8731 - mae: 110.8731 - val_loss: 654.5366 - val_mae: 654.5366\n",
            "Epoch 84/100\n",
            "18/18 [==============================] - 1s 40ms/step - loss: 111.9106 - mae: 111.9106 - val_loss: 572.3373 - val_mae: 572.3373\n",
            "Epoch 85/100\n",
            "18/18 [==============================] - 0s 3ms/step - loss: 106.6154 - mae: 106.6154 - val_loss: 574.2833 - val_mae: 574.2833\n",
            "Epoch 86/100\n",
            "18/18 [==============================] - 0s 5ms/step - loss: 108.4299 - mae: 108.4299 - val_loss: 583.3530 - val_mae: 583.3530\n",
            "Epoch 87/100\n",
            "18/18 [==============================] - 0s 8ms/step - loss: 105.7481 - mae: 105.7481 - val_loss: 593.0121 - val_mae: 593.0121\n",
            "Epoch 88/100\n",
            "18/18 [==============================] - 1s 40ms/step - loss: 107.2604 - mae: 107.2604 - val_loss: 571.7658 - val_mae: 571.7658\n",
            "Epoch 89/100\n",
            "18/18 [==============================] - 1s 47ms/step - loss: 106.7823 - mae: 106.7823 - val_loss: 568.6370 - val_mae: 568.6370\n",
            "Epoch 90/100\n",
            "18/18 [==============================] - 0s 5ms/step - loss: 105.8682 - mae: 105.8682 - val_loss: 602.9690 - val_mae: 602.9690\n",
            "Epoch 91/100\n",
            "18/18 [==============================] - 0s 3ms/step - loss: 110.6365 - mae: 110.6365 - val_loss: 605.6947 - val_mae: 605.6947\n",
            "Epoch 92/100\n",
            "18/18 [==============================] - 0s 6ms/step - loss: 109.4668 - mae: 109.4668 - val_loss: 572.4370 - val_mae: 572.4370\n",
            "Epoch 93/100\n",
            "18/18 [==============================] - 0s 5ms/step - loss: 113.0063 - mae: 113.0063 - val_loss: 617.3001 - val_mae: 617.3001\n",
            "Epoch 94/100\n",
            "18/18 [==============================] - 0s 3ms/step - loss: 112.4903 - mae: 112.4903 - val_loss: 599.9803 - val_mae: 599.9803\n",
            "Epoch 95/100\n",
            "18/18 [==============================] - 0s 4ms/step - loss: 106.0053 - mae: 106.0053 - val_loss: 570.6210 - val_mae: 570.6210\n",
            "Epoch 96/100\n",
            "18/18 [==============================] - 0s 4ms/step - loss: 109.5910 - mae: 109.5910 - val_loss: 676.3395 - val_mae: 676.3395\n",
            "Epoch 97/100\n",
            "18/18 [==============================] - 0s 9ms/step - loss: 110.2213 - mae: 110.2213 - val_loss: 574.2988 - val_mae: 574.2988\n",
            "Epoch 98/100\n",
            "18/18 [==============================] - 0s 12ms/step - loss: 106.7290 - mae: 106.7290 - val_loss: 576.7734 - val_mae: 576.7734\n",
            "Epoch 99/100\n",
            "18/18 [==============================] - 1s 52ms/step - loss: 106.9889 - mae: 106.9889 - val_loss: 568.5499 - val_mae: 568.5499\n",
            "Epoch 100/100\n",
            "18/18 [==============================] - 0s 5ms/step - loss: 117.7622 - mae: 117.7622 - val_loss: 662.5322 - val_mae: 662.5322\n"
          ]
        },
        {
          "output_type": "execute_result",
          "data": {
            "text/plain": [
              "<keras.callbacks.History at 0x7fbdd8002290>"
            ]
          },
          "metadata": {},
          "execution_count": 41
        }
      ]
    },
    {
      "cell_type": "code",
      "source": [
        "# Evaluate model on test data\n",
        "model_1.evaluate(test_windows, test_labels)"
      ],
      "metadata": {
        "colab": {
          "base_uri": "https://localhost:8080/"
        },
        "id": "ox1aS5e7yoXS",
        "outputId": "714ee05a-20b0-4114-f43a-f1c5acf0e42f"
      },
      "execution_count": 42,
      "outputs": [
        {
          "output_type": "stream",
          "name": "stdout",
          "text": [
            "18/18 [==============================] - 0s 3ms/step - loss: 662.5322 - mae: 662.5322\n"
          ]
        },
        {
          "output_type": "execute_result",
          "data": {
            "text/plain": [
              "[662.5322265625, 662.5322265625]"
            ]
          },
          "metadata": {},
          "execution_count": 42
        }
      ]
    },
    {
      "cell_type": "code",
      "source": [
        "# Load in saved best performing model_1 and evaluate on test data\n",
        "model_1 = tf.keras.models.load_model(\"model_experiments/model_1_dense\")\n",
        "model_1.evaluate(test_windows, test_labels)"
      ],
      "metadata": {
        "colab": {
          "base_uri": "https://localhost:8080/"
        },
        "id": "5y0xZonm0QPS",
        "outputId": "842a2198-f54b-4e17-f138-bdfff3f57481"
      },
      "execution_count": 43,
      "outputs": [
        {
          "output_type": "stream",
          "name": "stdout",
          "text": [
            "18/18 [==============================] - 0s 2ms/step - loss: 568.5499 - mae: 568.5499\n"
          ]
        },
        {
          "output_type": "execute_result",
          "data": {
            "text/plain": [
              "[568.5498657226562, 568.5498657226562]"
            ]
          },
          "metadata": {},
          "execution_count": 43
        }
      ]
    },
    {
      "cell_type": "markdown",
      "source": [
        "## Making forecast with a model (on the test dataset)\n",
        "\n",
        "To make \"forecast\" on the test dataset (note: these wont be actual forecast, they are only psuedo forecasts because actual forecast are into the future), \n",
        "lets write a function to:\n",
        "\n",
        "1. Take in a train model\n",
        "2. Takes in some input data (same kind of data the model was trained on)\n",
        "3. Passes tyhe input data to model's predict() method\n",
        "4. Returns the predictions "
      ],
      "metadata": {
        "id": "ea7vIsrE0Uuq"
      }
    },
    {
      "cell_type": "code",
      "source": [
        "def make_preds(model, input_data):\n",
        "  \"\"\"\n",
        "  Uses model to make predictions on input_data.\n",
        "\n",
        "  Parameters\n",
        "  ----------\n",
        "  model: trained model \n",
        "  input_data: windowed input data (same kind of data model was trained on)\n",
        "\n",
        "  Returns model predictions on input_data.\n",
        "  \"\"\"\n",
        "  forecast = model.predict(input_data)\n",
        "  return tf.squeeze(forecast) # return 1D array of predictions"
      ],
      "metadata": {
        "id": "gtEjMpiWWZL6"
      },
      "execution_count": 45,
      "outputs": []
    },
    {
      "cell_type": "code",
      "source": [
        "# Make predictions using model_1 on the test dataset and view the results\n",
        "model_1_preds = make_preds(model_1, test_windows)\n",
        "len(model_1_preds), model_1_preds[:10]"
      ],
      "metadata": {
        "colab": {
          "base_uri": "https://localhost:8080/"
        },
        "id": "LzyfnK5MWk4k",
        "outputId": "9bf2171e-7d5d-4307-8330-0a7f932e87f1"
      },
      "execution_count": 46,
      "outputs": [
        {
          "output_type": "execute_result",
          "data": {
            "text/plain": [
              "(556, <tf.Tensor: shape=(10,), dtype=float32, numpy=\n",
              " array([8874.493, 8789.944, 9040.986, 8804.829, 8741.21 , 8749.835,\n",
              "        8705.865, 8513.171, 8478.415, 8536.302], dtype=float32)>)"
            ]
          },
          "metadata": {},
          "execution_count": 46
        }
      ]
    },
    {
      "cell_type": "code",
      "source": [
        "# Evaluate preds\n",
        "model_1_results = evaluate_preds(y_true=tf.squeeze(test_labels), # reduce to right shape\n",
        "                                 y_pred=model_1_preds)\n",
        "model_1_results"
      ],
      "metadata": {
        "colab": {
          "base_uri": "https://localhost:8080/"
        },
        "id": "Lg6RLzrHWpQb",
        "outputId": "391744c1-0a69-4184-be01-672c4a75fe57"
      },
      "execution_count": 47,
      "outputs": [
        {
          "output_type": "execute_result",
          "data": {
            "text/plain": [
              "{'mae': 568.5498,\n",
              " 'mse': 1172587.6,\n",
              " 'rmse': 1082.8608,\n",
              " 'mape': 2.549229,\n",
              " 'mase': 0.99878454}"
            ]
          },
          "metadata": {},
          "execution_count": 47
        }
      ]
    },
    {
      "cell_type": "code",
      "source": [
        "naive_results"
      ],
      "metadata": {
        "colab": {
          "base_uri": "https://localhost:8080/"
        },
        "id": "oqW49gQ6W8cE",
        "outputId": "113a1631-8a91-498a-f617-c8d1031f0f90"
      },
      "execution_count": 48,
      "outputs": [
        {
          "output_type": "execute_result",
          "data": {
            "text/plain": [
              "{'mae': 567.9802,\n",
              " 'mse': 1147547.0,\n",
              " 'rmse': 1071.2362,\n",
              " 'mape': 2.5165248,\n",
              " 'mase': 0.99957}"
            ]
          },
          "metadata": {},
          "execution_count": 48
        }
      ]
    },
    {
      "cell_type": "code",
      "source": [
        "offset = 300\n",
        "plt.figure(figsize=(10, 7))\n",
        "# Account for the test_window offset and index into test_labels to ensure correct plotting\n",
        "plot_time_series(timesteps=X_test[-len(test_windows):], values=test_labels[:, 0], start=offset, label=\"Test_data\")\n",
        "plot_time_series(timesteps=X_test[-len(test_windows):], values=model_1_preds, start=offset, format=\"-\", label=\"model_1_preds\")"
      ],
      "metadata": {
        "colab": {
          "base_uri": "https://localhost:8080/",
          "height": 442
        },
        "id": "zUODi9nUW-2D",
        "outputId": "2602aaa8-2536-444a-80da-67d73a6f5ea8"
      },
      "execution_count": 49,
      "outputs": [
        {
          "output_type": "display_data",
          "data": {
            "text/plain": [
              "<Figure size 720x504 with 1 Axes>"
            ],
            "image/png": "[encoded data removed]"
          },
          "metadata": {
            "needs_background": "light"
          }
        }
      ]
    },
    {
      "cell_type": "markdown",
      "source": [
        "# Model 2: Dense(window=30, horizon= 1 )"
      ],
      "metadata": {
        "id": "HIJa-3aZXgdK"
      }
    },
    {
      "cell_type": "code",
      "source": [
        "HORIZON = 1 # predict one step at a time\n",
        "WINDOW_SIZE = 30 # use 30 timesteps in the past"
      ],
      "metadata": {
        "id": "7iw5v1_kYj_d"
      },
      "execution_count": 50,
      "outputs": []
    },
    {
      "cell_type": "code",
      "source": [
        "# Make windowed data with appropriate horizon and window sizes\n",
        "full_windows, full_labels = make_windows(prices, window_size=WINDOW_SIZE, horizon=HORIZON)\n",
        "len(full_windows), len(full_labels)"
      ],
      "metadata": {
        "colab": {
          "base_uri": "https://localhost:8080/"
        },
        "id": "EJtwQ1dnYt_C",
        "outputId": "95ec55fb-ea23-4e63-ef3b-59ef1d6c1d6b"
      },
      "execution_count": 51,
      "outputs": [
        {
          "output_type": "execute_result",
          "data": {
            "text/plain": [
              "(2757, 2757)"
            ]
          },
          "metadata": {},
          "execution_count": 51
        }
      ]
    },
    {
      "cell_type": "code",
      "source": [
        "# Make train and testing windows\n",
        "train_windows, test_windows, train_labels, test_labels = make_train_test_splits(windows=full_windows, labels=full_labels)\n",
        "len(train_windows), len(test_windows), len(train_labels), len(test_labels)"
      ],
      "metadata": {
        "colab": {
          "base_uri": "https://localhost:8080/"
        },
        "id": "4aUnZ1X0Yu46",
        "outputId": "8a9ce678-7e58-4336-ba86-946f3df9bf0a"
      },
      "execution_count": 52,
      "outputs": [
        {
          "output_type": "execute_result",
          "data": {
            "text/plain": [
              "(2205, 552, 2205, 552)"
            ]
          },
          "metadata": {},
          "execution_count": 52
        }
      ]
    },
    {
      "cell_type": "code",
      "source": [
        "tf.random.set_seed(42)\n",
        "\n",
        "# Create model (same model as model 1 but data input will be different)\n",
        "model_2 = tf.keras.Sequential([\n",
        "  layers.Dense(128, activation=\"relu\"),\n",
        "  layers.Dense(HORIZON) # need to predict horizon number of steps into the future\n",
        "], name=\"model_2_dense\")\n",
        "\n",
        "model_2.compile(loss=\"mae\",\n",
        "                optimizer=tf.keras.optimizers.Adam())\n",
        "\n",
        "model_2.fit(train_windows,\n",
        "            train_labels,\n",
        "            epochs=100,\n",
        "            batch_size=128,\n",
        "            verbose=1,\n",
        "            validation_data=(test_windows, test_labels),\n",
        "            callbacks=[create_model_checkpoint(model_name=model_2.name)])"
      ],
      "metadata": {
        "colab": {
          "base_uri": "https://localhost:8080/"
        },
        "id": "ZoMPvlVIYzuy",
        "outputId": "5021cdde-1db2-4e4b-e787-dbf43377463b"
      },
      "execution_count": 54,
      "outputs": [
        {
          "output_type": "stream",
          "name": "stdout",
          "text": [
            "Epoch 1/100\n",
            "18/18 [==============================] - 2s 57ms/step - loss: 1097.0364 - val_loss: 3900.4734\n",
            "Epoch 2/100\n",
            "18/18 [==============================] - 1s 30ms/step - loss: 428.0718 - val_loss: 1586.9788\n",
            "Epoch 3/100\n",
            "18/18 [==============================] - 1s 29ms/step - loss: 279.7651 - val_loss: 1220.5885\n",
            "Epoch 4/100\n",
            "18/18 [==============================] - 0s 29ms/step - loss: 224.3577 - val_loss: 1160.8899\n",
            "Epoch 5/100\n",
            "18/18 [==============================] - 0s 28ms/step - loss: 187.9847 - val_loss: 1008.5139\n",
            "Epoch 6/100\n",
            "18/18 [==============================] - 0s 4ms/step - loss: 182.9360 - val_loss: 1034.0234\n",
            "Epoch 7/100\n",
            "18/18 [==============================] - 0s 4ms/step - loss: 193.5136 - val_loss: 1052.5927\n",
            "Epoch 8/100\n",
            "18/18 [==============================] - 1s 39ms/step - loss: 189.6134 - val_loss: 981.0544\n",
            "Epoch 9/100\n",
            "18/18 [==============================] - 0s 6ms/step - loss: 164.6297 - val_loss: 982.6329\n",
            "Epoch 10/100\n",
            "18/18 [==============================] - 1s 56ms/step - loss: 164.4166 - val_loss: 906.5855\n",
            "Epoch 11/100\n",
            "18/18 [==============================] - 1s 55ms/step - loss: 159.1384 - val_loss: 867.9947\n",
            "Epoch 12/100\n",
            "18/18 [==============================] - 0s 28ms/step - loss: 159.2001 - val_loss: 848.4236\n",
            "Epoch 13/100\n",
            "18/18 [==============================] - 0s 3ms/step - loss: 155.7191 - val_loss: 1106.3558\n",
            "Epoch 14/100\n",
            "18/18 [==============================] - 0s 29ms/step - loss: 155.9357 - val_loss: 835.1685\n",
            "Epoch 15/100\n",
            "18/18 [==============================] - 0s 3ms/step - loss: 172.9281 - val_loss: 1086.2393\n",
            "Epoch 16/100\n",
            "18/18 [==============================] - 0s 4ms/step - loss: 196.2920 - val_loss: 915.8146\n",
            "Epoch 17/100\n",
            "18/18 [==============================] - 0s 3ms/step - loss: 167.2291 - val_loss: 991.4576\n",
            "Epoch 18/100\n",
            "18/18 [==============================] - 0s 3ms/step - loss: 153.3217 - val_loss: 841.6188\n",
            "Epoch 19/100\n",
            "18/18 [==============================] - 0s 4ms/step - loss: 152.4225 - val_loss: 985.5378\n",
            "Epoch 20/100\n",
            "18/18 [==============================] - 0s 4ms/step - loss: 153.9386 - val_loss: 903.3452\n",
            "Epoch 21/100\n",
            "18/18 [==============================] - 0s 4ms/step - loss: 151.0357 - val_loss: 1171.8992\n",
            "Epoch 22/100\n",
            "18/18 [==============================] - 1s 32ms/step - loss: 182.5567 - val_loss: 792.0427\n",
            "Epoch 23/100\n",
            "18/18 [==============================] - 0s 5ms/step - loss: 147.2366 - val_loss: 1248.6670\n",
            "Epoch 24/100\n",
            "18/18 [==============================] - 1s 32ms/step - loss: 165.8474 - val_loss: 764.9648\n",
            "Epoch 25/100\n",
            "18/18 [==============================] - 0s 3ms/step - loss: 141.3612 - val_loss: 1027.5089\n",
            "Epoch 26/100\n",
            "18/18 [==============================] - 0s 3ms/step - loss: 145.0507 - val_loss: 963.4218\n",
            "Epoch 27/100\n",
            "18/18 [==============================] - 1s 30ms/step - loss: 166.3107 - val_loss: 758.8253\n",
            "Epoch 28/100\n",
            "18/18 [==============================] - 0s 3ms/step - loss: 141.9005 - val_loss: 921.5413\n",
            "Epoch 29/100\n",
            "18/18 [==============================] - 1s 29ms/step - loss: 151.6104 - val_loss: 744.5239\n",
            "Epoch 30/100\n",
            "18/18 [==============================] - 0s 5ms/step - loss: 145.4290 - val_loss: 1032.8534\n",
            "Epoch 31/100\n",
            "18/18 [==============================] - 0s 4ms/step - loss: 144.6095 - val_loss: 882.7136\n",
            "Epoch 32/100\n",
            "18/18 [==============================] - 1s 34ms/step - loss: 147.0372 - val_loss: 740.3758\n",
            "Epoch 33/100\n",
            "18/18 [==============================] - 1s 33ms/step - loss: 142.5280 - val_loss: 720.7864\n",
            "Epoch 34/100\n",
            "18/18 [==============================] - 1s 30ms/step - loss: 133.6700 - val_loss: 717.7316\n",
            "Epoch 35/100\n",
            "18/18 [==============================] - 0s 4ms/step - loss: 131.4210 - val_loss: 728.5020\n",
            "Epoch 36/100\n",
            "18/18 [==============================] - 0s 4ms/step - loss: 135.8274 - val_loss: 1142.2899\n",
            "Epoch 37/100\n",
            "18/18 [==============================] - 0s 4ms/step - loss: 156.5550 - val_loss: 743.1830\n",
            "Epoch 38/100\n",
            "18/18 [==============================] - 0s 4ms/step - loss: 139.7631 - val_loss: 834.9924\n",
            "Epoch 39/100\n",
            "18/18 [==============================] - 0s 4ms/step - loss: 134.8315 - val_loss: 806.1395\n",
            "Epoch 40/100\n",
            "18/18 [==============================] - 0s 4ms/step - loss: 138.8917 - val_loss: 1205.2980\n",
            "Epoch 41/100\n",
            "18/18 [==============================] - 0s 3ms/step - loss: 138.8391 - val_loss: 774.6063\n",
            "Epoch 42/100\n",
            "18/18 [==============================] - 1s 47ms/step - loss: 142.7319 - val_loss: 690.2162\n",
            "Epoch 43/100\n",
            "18/18 [==============================] - 0s 4ms/step - loss: 132.1687 - val_loss: 728.7234\n",
            "Epoch 44/100\n",
            "18/18 [==============================] - 0s 4ms/step - loss: 142.6892 - val_loss: 694.0507\n",
            "Epoch 45/100\n",
            "18/18 [==============================] - 1s 32ms/step - loss: 133.6193 - val_loss: 683.8621\n",
            "Epoch 46/100\n",
            "18/18 [==============================] - 0s 4ms/step - loss: 141.6674 - val_loss: 743.8422\n",
            "Epoch 47/100\n",
            "18/18 [==============================] - 0s 3ms/step - loss: 143.1355 - val_loss: 1190.2705\n",
            "Epoch 48/100\n",
            "18/18 [==============================] - 1s 32ms/step - loss: 169.1438 - val_loss: 678.2393\n",
            "Epoch 49/100\n",
            "18/18 [==============================] - 0s 5ms/step - loss: 128.8607 - val_loss: 685.0731\n",
            "Epoch 50/100\n",
            "18/18 [==============================] - 0s 4ms/step - loss: 134.0921 - val_loss: 741.9185\n",
            "Epoch 51/100\n",
            "18/18 [==============================] - 1s 32ms/step - loss: 135.7349 - val_loss: 664.6138\n",
            "Epoch 52/100\n",
            "18/18 [==============================] - 0s 3ms/step - loss: 131.6362 - val_loss: 668.4210\n",
            "Epoch 53/100\n",
            "18/18 [==============================] - 0s 3ms/step - loss: 136.9650 - val_loss: 903.8722\n",
            "Epoch 54/100\n",
            "18/18 [==============================] - 0s 3ms/step - loss: 141.0337 - val_loss: 1198.4153\n",
            "Epoch 55/100\n",
            "18/18 [==============================] - 1s 31ms/step - loss: 181.8187 - val_loss: 659.2891\n",
            "Epoch 56/100\n",
            "18/18 [==============================] - 0s 4ms/step - loss: 170.9289 - val_loss: 675.2273\n",
            "Epoch 57/100\n",
            "18/18 [==============================] - 0s 4ms/step - loss: 127.9376 - val_loss: 733.6257\n",
            "Epoch 58/100\n",
            "18/18 [==============================] - 0s 4ms/step - loss: 133.3899 - val_loss: 729.7595\n",
            "Epoch 59/100\n",
            "18/18 [==============================] - 1s 36ms/step - loss: 156.2449 - val_loss: 656.1699\n",
            "Epoch 60/100\n",
            "18/18 [==============================] - 0s 9ms/step - loss: 120.3637 - val_loss: 681.4840\n",
            "Epoch 61/100\n",
            "18/18 [==============================] - 0s 7ms/step - loss: 128.2952 - val_loss: 659.0873\n",
            "Epoch 62/100\n",
            "18/18 [==============================] - 0s 9ms/step - loss: 125.3314 - val_loss: 912.8403\n",
            "Epoch 63/100\n",
            "18/18 [==============================] - 0s 6ms/step - loss: 146.5884 - val_loss: 673.6827\n",
            "Epoch 64/100\n",
            "18/18 [==============================] - 0s 6ms/step - loss: 133.1012 - val_loss: 673.3699\n",
            "Epoch 65/100\n",
            "18/18 [==============================] - 0s 6ms/step - loss: 133.6566 - val_loss: 771.8328\n",
            "Epoch 66/100\n",
            "18/18 [==============================] - 0s 8ms/step - loss: 125.3215 - val_loss: 725.6829\n",
            "Epoch 67/100\n",
            "18/18 [==============================] - 1s 43ms/step - loss: 124.8277 - val_loss: 636.5225\n",
            "Epoch 68/100\n",
            "18/18 [==============================] - 0s 6ms/step - loss: 122.5858 - val_loss: 810.6801\n",
            "Epoch 69/100\n",
            "18/18 [==============================] - 0s 6ms/step - loss: 123.1227 - val_loss: 1012.1276\n",
            "Epoch 70/100\n",
            "18/18 [==============================] - 0s 6ms/step - loss: 130.4447 - val_loss: 768.0076\n",
            "Epoch 71/100\n",
            "18/18 [==============================] - 1s 58ms/step - loss: 128.8505 - val_loss: 630.2802\n",
            "Epoch 72/100\n",
            "18/18 [==============================] - 1s 29ms/step - loss: 122.5891 - val_loss: 629.1695\n",
            "Epoch 73/100\n",
            "18/18 [==============================] - 0s 3ms/step - loss: 129.8417 - val_loss: 633.4332\n",
            "Epoch 74/100\n",
            "18/18 [==============================] - 0s 3ms/step - loss: 126.5321 - val_loss: 631.0437\n",
            "Epoch 75/100\n",
            "18/18 [==============================] - 0s 4ms/step - loss: 118.4632 - val_loss: 635.3978\n",
            "Epoch 76/100\n",
            "18/18 [==============================] - 0s 3ms/step - loss: 129.4144 - val_loss: 899.1105\n",
            "Epoch 77/100\n",
            "18/18 [==============================] - 0s 3ms/step - loss: 135.7495 - val_loss: 776.9734\n",
            "Epoch 78/100\n",
            "18/18 [==============================] - 0s 4ms/step - loss: 119.6568 - val_loss: 710.6981\n",
            "Epoch 79/100\n",
            "18/18 [==============================] - 0s 4ms/step - loss: 129.3904 - val_loss: 642.8620\n",
            "Epoch 80/100\n",
            "18/18 [==============================] - 0s 4ms/step - loss: 124.2384 - val_loss: 874.5494\n",
            "Epoch 81/100\n",
            "18/18 [==============================] - 0s 3ms/step - loss: 137.0164 - val_loss: 817.3032\n",
            "Epoch 82/100\n",
            "18/18 [==============================] - 0s 3ms/step - loss: 132.2893 - val_loss: 632.1925\n",
            "Epoch 83/100\n",
            "18/18 [==============================] - 0s 4ms/step - loss: 124.0356 - val_loss: 644.9613\n",
            "Epoch 84/100\n",
            "18/18 [==============================] - 0s 4ms/step - loss: 141.5183 - val_loss: 1201.1581\n",
            "Epoch 85/100\n",
            "18/18 [==============================] - 0s 4ms/step - loss: 185.9575 - val_loss: 703.0590\n",
            "Epoch 86/100\n",
            "18/18 [==============================] - 0s 3ms/step - loss: 122.0779 - val_loss: 666.4520\n",
            "Epoch 87/100\n",
            "18/18 [==============================] - 0s 4ms/step - loss: 132.8739 - val_loss: 672.9814\n",
            "Epoch 88/100\n",
            "18/18 [==============================] - 0s 5ms/step - loss: 126.4181 - val_loss: 804.7151\n",
            "Epoch 89/100\n",
            "18/18 [==============================] - 1s 30ms/step - loss: 132.0069 - val_loss: 625.9977\n",
            "Epoch 90/100\n",
            "18/18 [==============================] - 0s 28ms/step - loss: 118.1564 - val_loss: 615.9607\n",
            "Epoch 91/100\n",
            "18/18 [==============================] - 1s 30ms/step - loss: 120.7212 - val_loss: 614.3580\n",
            "Epoch 92/100\n",
            "18/18 [==============================] - 0s 5ms/step - loss: 113.6546 - val_loss: 727.8482\n",
            "Epoch 93/100\n",
            "18/18 [==============================] - 0s 3ms/step - loss: 118.3180 - val_loss: 694.1804\n",
            "Epoch 94/100\n",
            "18/18 [==============================] - 1s 32ms/step - loss: 124.5203 - val_loss: 608.8480\n",
            "Epoch 95/100\n",
            "18/18 [==============================] - 0s 4ms/step - loss: 142.1621 - val_loss: 852.8896\n",
            "Epoch 96/100\n",
            "18/18 [==============================] - 0s 3ms/step - loss: 139.6714 - val_loss: 609.9149\n",
            "Epoch 97/100\n",
            "18/18 [==============================] - 0s 3ms/step - loss: 118.2659 - val_loss: 696.6282\n",
            "Epoch 98/100\n",
            "18/18 [==============================] - 0s 4ms/step - loss: 122.4433 - val_loss: 617.1519\n",
            "Epoch 99/100\n",
            "18/18 [==============================] - 0s 3ms/step - loss: 116.1888 - val_loss: 701.8738\n",
            "Epoch 100/100\n",
            "18/18 [==============================] - 0s 4ms/step - loss: 126.2801 - val_loss: 658.0289\n"
          ]
        },
        {
          "output_type": "execute_result",
          "data": {
            "text/plain": [
              "<keras.callbacks.History at 0x7fbdd7184750>"
            ]
          },
          "metadata": {},
          "execution_count": 54
        }
      ]
    },
    {
      "cell_type": "code",
      "source": [
        "# Evaluate model 2 preds\n",
        "model_2.evaluate(test_windows, test_labels)"
      ],
      "metadata": {
        "colab": {
          "base_uri": "https://localhost:8080/"
        },
        "id": "gGmeJqtrY6bK",
        "outputId": "891b4a5d-020d-483d-b5e6-4c58c542ff82"
      },
      "execution_count": 55,
      "outputs": [
        {
          "output_type": "stream",
          "name": "stdout",
          "text": [
            "18/18 [==============================] - 0s 1ms/step - loss: 658.0289\n"
          ]
        },
        {
          "output_type": "execute_result",
          "data": {
            "text/plain": [
              "658.0288696289062"
            ]
          },
          "metadata": {},
          "execution_count": 55
        }
      ]
    },
    {
      "cell_type": "code",
      "source": [
        "# Load in best performing model\n",
        "model_2 = tf.keras.models.load_model(\"model_experiments/model_2_dense/\")\n",
        "model_2.evaluate(test_windows, test_labels)"
      ],
      "metadata": {
        "colab": {
          "base_uri": "https://localhost:8080/"
        },
        "id": "UDKcXaFmZFbx",
        "outputId": "57e7ff1d-d7bd-45c7-e130-dd429a1e524f"
      },
      "execution_count": 56,
      "outputs": [
        {
          "output_type": "stream",
          "name": "stdout",
          "text": [
            "18/18 [==============================] - 0s 1ms/step - loss: 608.8480\n"
          ]
        },
        {
          "output_type": "execute_result",
          "data": {
            "text/plain": [
              "608.8480224609375"
            ]
          },
          "metadata": {},
          "execution_count": 56
        }
      ]
    },
    {
      "cell_type": "code",
      "source": [
        "# Get forecast predictions\n",
        "model_2_preds = make_preds(model_2,\n",
        "                           input_data=test_windows)"
      ],
      "metadata": {
        "id": "gKNSAoGiZJBp"
      },
      "execution_count": 57,
      "outputs": []
    },
    {
      "cell_type": "code",
      "source": [
        "# Evaluate results for model 2 predictions\n",
        "model_2_results = evaluate_preds(y_true=tf.squeeze(test_labels), # remove 1 dimension of test labels\n",
        "                                 y_pred=model_2_preds)\n",
        "model_2_results"
      ],
      "metadata": {
        "colab": {
          "base_uri": "https://localhost:8080/"
        },
        "id": "yqxtJijzZP46",
        "outputId": "d6e3169c-df33-4686-cd21-3e71a4ca5e4e"
      },
      "execution_count": 58,
      "outputs": [
        {
          "output_type": "execute_result",
          "data": {
            "text/plain": [
              "{'mae': 608.84814,\n",
              " 'mse': 1284314.4,\n",
              " 'rmse': 1133.276,\n",
              " 'mape': 2.7680664,\n",
              " 'mase': 1.0642724}"
            ]
          },
          "metadata": {},
          "execution_count": 58
        }
      ]
    },
    {
      "cell_type": "code",
      "source": [
        "naive_results"
      ],
      "metadata": {
        "colab": {
          "base_uri": "https://localhost:8080/"
        },
        "id": "WbjVqKT3ZUCK",
        "outputId": "4832c41b-a751-4610-c52f-8b29e437a452"
      },
      "execution_count": 60,
      "outputs": [
        {
          "output_type": "execute_result",
          "data": {
            "text/plain": [
              "{'mae': 567.9802,\n",
              " 'mse': 1147547.0,\n",
              " 'rmse': 1071.2362,\n",
              " 'mape': 2.5165248,\n",
              " 'mase': 0.99957}"
            ]
          },
          "metadata": {},
          "execution_count": 60
        }
      ]
    },
    {
      "cell_type": "code",
      "source": [
        "offset = 300\n",
        "plt.figure(figsize=(10, 7))\n",
        "# Account for the test_window offset\n",
        "plot_time_series(timesteps=X_test[-len(test_windows):], values=test_labels[:, 0], start=offset, label=\"test_data\")\n",
        "plot_time_series(timesteps=X_test[-len(test_windows):], values=model_2_preds, start=offset, format=\"-\", label=\"model_2_preds\") "
      ],
      "metadata": {
        "colab": {
          "base_uri": "https://localhost:8080/",
          "height": 442
        },
        "id": "_F1gjkEkZZWJ",
        "outputId": "774b613a-1b75-4ebe-b937-d29bdc5fd9a6"
      },
      "execution_count": 61,
      "outputs": [
        {
          "output_type": "display_data",
          "data": {
            "text/plain": [
              "<Figure size 720x504 with 1 Axes>"
            ],
            "image/png": "[encoded data removed]"
          },
          "metadata": {
            "needs_background": "light"
          }
        }
      ]
    },
    {
      "cell_type": "markdown",
      "source": [
        "Model 3: Dense (window = 30, horizon = 7)"
      ],
      "metadata": {
        "id": "RNsknLm7dImJ"
      }
    },
    {
      "cell_type": "code",
      "source": [
        "HORIZON = 7\n",
        "WINDOW_SIZE = 30\n",
        "\n",
        "full_windows, full_labels = make_windows(prices, window_size=WINDOW_SIZE, horizon=HORIZON)\n",
        "len(full_windows), len(full_labels)"
      ],
      "metadata": {
        "colab": {
          "base_uri": "https://localhost:8080/"
        },
        "id": "GXdLUrECZeaa",
        "outputId": "1c4df79c-58d1-494d-efee-ee382839e28f"
      },
      "execution_count": 62,
      "outputs": [
        {
          "output_type": "execute_result",
          "data": {
            "text/plain": [
              "(2751, 2751)"
            ]
          },
          "metadata": {},
          "execution_count": 62
        }
      ]
    },
    {
      "cell_type": "code",
      "source": [
        "train_windows, test_windows, train_labels, test_labels = make_train_test_splits(windows=full_windows, labels=full_labels, test_split=0.2)\n",
        "len(train_windows), len(test_windows), len(train_labels), len(test_labels)"
      ],
      "metadata": {
        "colab": {
          "base_uri": "https://localhost:8080/"
        },
        "id": "8D1Dc0cEdO3-",
        "outputId": "a88b59a5-6179-431d-9385-b922fda122e8"
      },
      "execution_count": 63,
      "outputs": [
        {
          "output_type": "execute_result",
          "data": {
            "text/plain": [
              "(2200, 551, 2200, 551)"
            ]
          },
          "metadata": {},
          "execution_count": 63
        }
      ]
    },
    {
      "cell_type": "code",
      "source": [
        "tf.random.set_seed(42)\n",
        "\n",
        "# Create model (same as model_1 except with different data input size)\n",
        "model_3 = tf.keras.Sequential([\n",
        "  layers.Dense(128, activation=\"relu\"),\n",
        "  layers.Dense(HORIZON)\n",
        "], name=\"model_3_dense\")\n",
        "\n",
        "model_3.compile(loss=\"mae\",\n",
        "                optimizer=tf.keras.optimizers.Adam())\n",
        "\n",
        "model_3.fit(train_windows,\n",
        "            train_labels,\n",
        "            batch_size=128,\n",
        "            epochs=100,\n",
        "            verbose=1,\n",
        "            validation_data=(test_windows, test_labels),\n",
        "            callbacks=[create_model_checkpoint(model_name=model_3.name)])"
      ],
      "metadata": {
        "colab": {
          "base_uri": "https://localhost:8080/"
        },
        "id": "sJny-OhTdPge",
        "outputId": "8332d3b6-b6bf-40d2-950d-3c653f626403"
      },
      "execution_count": 64,
      "outputs": [
        {
          "output_type": "stream",
          "name": "stdout",
          "text": [
            "Epoch 1/100\n",
            "18/18 [==============================] - 2s 82ms/step - loss: 1476.6801 - val_loss: 3088.5391\n",
            "Epoch 2/100\n",
            "18/18 [==============================] - 1s 33ms/step - loss: 552.8872 - val_loss: 2462.5020\n",
            "Epoch 3/100\n",
            "18/18 [==============================] - 1s 33ms/step - loss: 435.1955 - val_loss: 2282.7729\n",
            "Epoch 4/100\n",
            "18/18 [==============================] - 1s 32ms/step - loss: 391.9522 - val_loss: 1980.5011\n",
            "Epoch 5/100\n",
            "18/18 [==============================] - 0s 4ms/step - loss: 357.7267 - val_loss: 1985.0293\n",
            "Epoch 6/100\n",
            "18/18 [==============================] - 1s 32ms/step - loss: 332.7856 - val_loss: 1754.1522\n",
            "Epoch 7/100\n",
            "18/18 [==============================] - 1s 32ms/step - loss: 309.8981 - val_loss: 1590.3005\n",
            "Epoch 8/100\n",
            "18/18 [==============================] - 1s 31ms/step - loss: 302.8700 - val_loss: 1565.3329\n",
            "Epoch 9/100\n",
            "18/18 [==============================] - 0s 3ms/step - loss: 293.6388 - val_loss: 1611.2915\n",
            "Epoch 10/100\n",
            "18/18 [==============================] - 1s 35ms/step - loss: 292.9813 - val_loss: 1515.2767\n",
            "Epoch 11/100\n",
            "18/18 [==============================] - 1s 32ms/step - loss: 283.2764 - val_loss: 1477.6067\n",
            "Epoch 12/100\n",
            "18/18 [==============================] - 0s 5ms/step - loss: 275.6171 - val_loss: 1523.7949\n",
            "Epoch 13/100\n",
            "18/18 [==============================] - 1s 33ms/step - loss: 271.0623 - val_loss: 1454.5190\n",
            "Epoch 14/100\n",
            "18/18 [==============================] - 1s 32ms/step - loss: 270.5262 - val_loss: 1419.8560\n",
            "Epoch 15/100\n",
            "18/18 [==============================] - 0s 5ms/step - loss: 264.9192 - val_loss: 1514.7672\n",
            "Epoch 16/100\n",
            "18/18 [==============================] - 0s 3ms/step - loss: 263.9895 - val_loss: 1428.1069\n",
            "Epoch 17/100\n",
            "18/18 [==============================] - 0s 3ms/step - loss: 262.7860 - val_loss: 1509.7175\n",
            "Epoch 18/100\n",
            "18/18 [==============================] - 0s 3ms/step - loss: 261.2750 - val_loss: 1485.4717\n",
            "Epoch 19/100\n",
            "18/18 [==============================] - 0s 3ms/step - loss: 258.8603 - val_loss: 1498.3242\n",
            "Epoch 20/100\n",
            "18/18 [==============================] - 0s 4ms/step - loss: 261.5325 - val_loss: 1431.1338\n",
            "Epoch 21/100\n",
            "18/18 [==============================] - 0s 4ms/step - loss: 256.0999 - val_loss: 1434.0571\n",
            "Epoch 22/100\n",
            "18/18 [==============================] - 0s 3ms/step - loss: 257.1093 - val_loss: 1432.9050\n",
            "Epoch 23/100\n",
            "18/18 [==============================] - 1s 32ms/step - loss: 260.5021 - val_loss: 1380.8607\n",
            "Epoch 24/100\n",
            "18/18 [==============================] - 1s 30ms/step - loss: 266.9105 - val_loss: 1377.7487\n",
            "Epoch 25/100\n",
            "18/18 [==============================] - 0s 4ms/step - loss: 253.5253 - val_loss: 1491.6226\n",
            "Epoch 26/100\n",
            "18/18 [==============================] - 0s 3ms/step - loss: 252.3594 - val_loss: 1396.9802\n",
            "Epoch 27/100\n",
            "18/18 [==============================] - 0s 5ms/step - loss: 249.1352 - val_loss: 1436.5671\n",
            "Epoch 28/100\n",
            "18/18 [==============================] - 0s 4ms/step - loss: 249.6862 - val_loss: 1401.4629\n",
            "Epoch 29/100\n",
            "18/18 [==============================] - 0s 4ms/step - loss: 249.7410 - val_loss: 1394.3362\n",
            "Epoch 30/100\n",
            "18/18 [==============================] - 1s 31ms/step - loss: 249.0822 - val_loss: 1347.6769\n",
            "Epoch 31/100\n",
            "18/18 [==============================] - 0s 5ms/step - loss: 244.0749 - val_loss: 1348.6328\n",
            "Epoch 32/100\n",
            "18/18 [==============================] - 1s 32ms/step - loss: 246.8022 - val_loss: 1329.3359\n",
            "Epoch 33/100\n",
            "18/18 [==============================] - 0s 3ms/step - loss: 245.9506 - val_loss: 1384.7731\n",
            "Epoch 34/100\n",
            "18/18 [==============================] - 0s 4ms/step - loss: 246.0174 - val_loss: 1355.9598\n",
            "Epoch 35/100\n",
            "18/18 [==============================] - 0s 3ms/step - loss: 243.7620 - val_loss: 1363.7579\n",
            "Epoch 36/100\n",
            "18/18 [==============================] - 0s 4ms/step - loss: 241.1248 - val_loss: 1410.3391\n",
            "Epoch 37/100\n",
            "18/18 [==============================] - 0s 4ms/step - loss: 258.0173 - val_loss: 1349.0780\n",
            "Epoch 38/100\n",
            "18/18 [==============================] - 0s 4ms/step - loss: 239.5506 - val_loss: 1361.1649\n",
            "Epoch 39/100\n",
            "18/18 [==============================] - 0s 4ms/step - loss: 245.0304 - val_loss: 1396.5168\n",
            "Epoch 40/100\n",
            "18/18 [==============================] - 0s 4ms/step - loss: 240.2838 - val_loss: 1475.3779\n",
            "Epoch 41/100\n",
            "18/18 [==============================] - 0s 4ms/step - loss: 242.0395 - val_loss: 1403.7788\n",
            "Epoch 42/100\n",
            "18/18 [==============================] - 0s 4ms/step - loss: 245.7990 - val_loss: 1335.5558\n",
            "Epoch 43/100\n",
            "18/18 [==============================] - 0s 3ms/step - loss: 240.2967 - val_loss: 1371.6216\n",
            "Epoch 44/100\n",
            "18/18 [==============================] - 1s 30ms/step - loss: 250.6715 - val_loss: 1292.5607\n",
            "Epoch 45/100\n",
            "18/18 [==============================] - 0s 4ms/step - loss: 244.9295 - val_loss: 1513.4651\n",
            "Epoch 46/100\n",
            "18/18 [==============================] - 0s 5ms/step - loss: 242.6354 - val_loss: 1294.0117\n",
            "Epoch 47/100\n",
            "18/18 [==============================] - 0s 4ms/step - loss: 236.4085 - val_loss: 1323.3668\n",
            "Epoch 48/100\n",
            "18/18 [==============================] - 0s 4ms/step - loss: 234.9307 - val_loss: 1314.9104\n",
            "Epoch 49/100\n",
            "18/18 [==============================] - 0s 5ms/step - loss: 240.2824 - val_loss: 1314.3116\n",
            "Epoch 50/100\n",
            "18/18 [==============================] - 0s 4ms/step - loss: 235.9135 - val_loss: 1300.9117\n",
            "Epoch 51/100\n",
            "18/18 [==============================] - 0s 3ms/step - loss: 244.2592 - val_loss: 1401.4980\n",
            "Epoch 52/100\n",
            "18/18 [==============================] - 0s 3ms/step - loss: 233.0795 - val_loss: 1322.4376\n",
            "Epoch 53/100\n",
            "18/18 [==============================] - 1s 30ms/step - loss: 231.7043 - val_loss: 1289.7489\n",
            "Epoch 54/100\n",
            "18/18 [==============================] - 0s 4ms/step - loss: 236.4574 - val_loss: 1304.5195\n",
            "Epoch 55/100\n",
            "18/18 [==============================] - 0s 4ms/step - loss: 233.9601 - val_loss: 1325.4091\n",
            "Epoch 56/100\n",
            "18/18 [==============================] - 0s 5ms/step - loss: 234.6053 - val_loss: 1342.9772\n",
            "Epoch 57/100\n",
            "18/18 [==============================] - 0s 3ms/step - loss: 235.8340 - val_loss: 1398.1770\n",
            "Epoch 58/100\n",
            "18/18 [==============================] - 0s 3ms/step - loss: 232.2876 - val_loss: 1307.6246\n",
            "Epoch 59/100\n",
            "18/18 [==============================] - 0s 4ms/step - loss: 231.2605 - val_loss: 1292.0947\n",
            "Epoch 60/100\n",
            "18/18 [==============================] - 1s 29ms/step - loss: 230.9664 - val_loss: 1271.3101\n",
            "Epoch 61/100\n",
            "18/18 [==============================] - 0s 4ms/step - loss: 230.5149 - val_loss: 1461.6400\n",
            "Epoch 62/100\n",
            "18/18 [==============================] - 0s 4ms/step - loss: 233.8956 - val_loss: 1303.2072\n",
            "Epoch 63/100\n",
            "18/18 [==============================] - 0s 4ms/step - loss: 236.4534 - val_loss: 1382.0212\n",
            "Epoch 64/100\n",
            "18/18 [==============================] - 1s 47ms/step - loss: 231.5335 - val_loss: 1258.1943\n",
            "Epoch 65/100\n",
            "18/18 [==============================] - 0s 8ms/step - loss: 233.2865 - val_loss: 1395.1260\n",
            "Epoch 66/100\n",
            "18/18 [==============================] - 0s 6ms/step - loss: 233.4467 - val_loss: 1472.3950\n",
            "Epoch 67/100\n",
            "18/18 [==============================] - 0s 9ms/step - loss: 237.0803 - val_loss: 1277.4172\n",
            "Epoch 68/100\n",
            "18/18 [==============================] - 0s 8ms/step - loss: 229.8266 - val_loss: 1342.0269\n",
            "Epoch 69/100\n",
            "18/18 [==============================] - 0s 5ms/step - loss: 229.1300 - val_loss: 1536.4250\n",
            "Epoch 70/100\n",
            "18/18 [==============================] - 0s 7ms/step - loss: 235.6916 - val_loss: 1278.5677\n",
            "Epoch 71/100\n",
            "18/18 [==============================] - 1s 67ms/step - loss: 226.6589 - val_loss: 1258.1080\n",
            "Epoch 72/100\n",
            "18/18 [==============================] - 1s 48ms/step - loss: 228.9357 - val_loss: 1250.1577\n",
            "Epoch 73/100\n",
            "18/18 [==============================] - 0s 11ms/step - loss: 226.1103 - val_loss: 1278.9072\n",
            "Epoch 74/100\n",
            "18/18 [==============================] - 0s 12ms/step - loss: 230.0703 - val_loss: 1364.9247\n",
            "Epoch 75/100\n",
            "18/18 [==============================] - 0s 17ms/step - loss: 227.6293 - val_loss: 1386.9498\n",
            "Epoch 76/100\n",
            "18/18 [==============================] - 0s 17ms/step - loss: 228.9475 - val_loss: 1282.8600\n",
            "Epoch 77/100\n",
            "18/18 [==============================] - 2s 94ms/step - loss: 225.1728 - val_loss: 1234.3922\n",
            "Epoch 78/100\n",
            "18/18 [==============================] - 0s 11ms/step - loss: 229.5752 - val_loss: 1258.4149\n",
            "Epoch 79/100\n",
            "18/18 [==============================] - 0s 13ms/step - loss: 228.7715 - val_loss: 1314.1998\n",
            "Epoch 80/100\n",
            "18/18 [==============================] - 0s 8ms/step - loss: 229.0316 - val_loss: 1302.7209\n",
            "Epoch 81/100\n",
            "18/18 [==============================] - 0s 6ms/step - loss: 226.3574 - val_loss: 1250.7902\n",
            "Epoch 82/100\n",
            "18/18 [==============================] - 0s 6ms/step - loss: 224.8654 - val_loss: 1271.8049\n",
            "Epoch 83/100\n",
            "18/18 [==============================] - 0s 4ms/step - loss: 224.5736 - val_loss: 1289.4341\n",
            "Epoch 84/100\n",
            "18/18 [==============================] - 0s 5ms/step - loss: 225.7016 - val_loss: 1259.0988\n",
            "Epoch 85/100\n",
            "18/18 [==============================] - 0s 5ms/step - loss: 226.3121 - val_loss: 1267.8599\n",
            "Epoch 86/100\n",
            "18/18 [==============================] - 0s 3ms/step - loss: 224.5820 - val_loss: 1281.6602\n",
            "Epoch 87/100\n",
            "18/18 [==============================] - 0s 5ms/step - loss: 228.1579 - val_loss: 1371.5221\n",
            "Epoch 88/100\n",
            "18/18 [==============================] - 0s 4ms/step - loss: 227.8217 - val_loss: 1460.1110\n",
            "Epoch 89/100\n",
            "18/18 [==============================] - 0s 4ms/step - loss: 229.7546 - val_loss: 1283.3890\n",
            "Epoch 90/100\n",
            "18/18 [==============================] - 0s 5ms/step - loss: 231.4251 - val_loss: 1359.4939\n",
            "Epoch 91/100\n",
            "18/18 [==============================] - 0s 5ms/step - loss: 225.5690 - val_loss: 1269.3485\n",
            "Epoch 92/100\n",
            "18/18 [==============================] - 0s 4ms/step - loss: 226.3247 - val_loss: 1243.8672\n",
            "Epoch 93/100\n",
            "18/18 [==============================] - 0s 4ms/step - loss: 231.3765 - val_loss: 1319.8845\n",
            "Epoch 94/100\n",
            "18/18 [==============================] - 0s 4ms/step - loss: 226.6964 - val_loss: 1302.1136\n",
            "Epoch 95/100\n",
            "18/18 [==============================] - 0s 4ms/step - loss: 228.1130 - val_loss: 1269.6951\n",
            "Epoch 96/100\n",
            "18/18 [==============================] - 0s 5ms/step - loss: 230.4718 - val_loss: 1404.5326\n",
            "Epoch 97/100\n",
            "18/18 [==============================] - 0s 4ms/step - loss: 230.1207 - val_loss: 1290.2529\n",
            "Epoch 98/100\n",
            "18/18 [==============================] - 0s 4ms/step - loss: 229.7066 - val_loss: 1314.9495\n",
            "Epoch 99/100\n",
            "18/18 [==============================] - 1s 31ms/step - loss: 225.6212 - val_loss: 1228.1417\n",
            "Epoch 100/100\n",
            "18/18 [==============================] - 0s 4ms/step - loss: 222.7613 - val_loss: 1322.7781\n"
          ]
        },
        {
          "output_type": "execute_result",
          "data": {
            "text/plain": [
              "<keras.callbacks.History at 0x7fbdd3e30f90>"
            ]
          },
          "metadata": {},
          "execution_count": 64
        }
      ]
    },
    {
      "cell_type": "code",
      "source": [
        "# How did our model with a larger window size and horizon go?\n",
        "model_3.evaluate(test_windows, test_labels)"
      ],
      "metadata": {
        "colab": {
          "base_uri": "https://localhost:8080/"
        },
        "id": "3RTVd475fAd3",
        "outputId": "9f577cf7-1388-4dd2-c032-296ad53b987c"
      },
      "execution_count": 67,
      "outputs": [
        {
          "output_type": "stream",
          "name": "stdout",
          "text": [
            "18/18 [==============================] - 0s 1ms/step - loss: 1322.7781\n"
          ]
        },
        {
          "output_type": "execute_result",
          "data": {
            "text/plain": [
              "1322.778076171875"
            ]
          },
          "metadata": {},
          "execution_count": 67
        }
      ]
    },
    {
      "cell_type": "code",
      "source": [
        "# Load in best version of model_3 and evaluate\n",
        "model_3 = tf.keras.models.load_model(\"model_experiments/model_3_dense/\")\n",
        "model_3.evaluate(test_windows, test_labels)"
      ],
      "metadata": {
        "colab": {
          "base_uri": "https://localhost:8080/"
        },
        "id": "qSHshiO3fC5s",
        "outputId": "d0cbf6bb-6174-4d48-ce1e-528eeb95c612"
      },
      "execution_count": 68,
      "outputs": [
        {
          "output_type": "stream",
          "name": "stdout",
          "text": [
            "18/18 [==============================] - 0s 1ms/step - loss: 1228.1417\n"
          ]
        },
        {
          "output_type": "execute_result",
          "data": {
            "text/plain": [
              "1228.1417236328125"
            ]
          },
          "metadata": {},
          "execution_count": 68
        }
      ]
    },
    {
      "cell_type": "code",
      "source": [
        "# The predictions are going to be 7 steps at a time (this is the HORIZON size)\n",
        "model_3_preds = make_preds(model_3,\n",
        "                           input_data=test_windows)\n",
        "model_3_preds[:5]"
      ],
      "metadata": {
        "colab": {
          "base_uri": "https://localhost:8080/"
        },
        "id": "Rw7Unq0Qdhro",
        "outputId": "02298cc4-3142-4b0d-d672-07eba19391b9"
      },
      "execution_count": 65,
      "outputs": [
        {
          "output_type": "execute_result",
          "data": {
            "text/plain": [
              "<tf.Tensor: shape=(5, 7), dtype=float32, numpy=\n",
              "array([[8992.555, 9144.559, 9136.172, 9145.461, 9116.714, 9092.811,\n",
              "        9223.867],\n",
              "       [8672.863, 8888.201, 8894.382, 8738.627, 8704.441, 8684.714,\n",
              "        8996.613],\n",
              "       [8592.111, 8837.025, 8776.112, 8631.203, 8632.093, 8530.361,\n",
              "        8897.33 ],\n",
              "       [8799.597, 8878.996, 8744.42 , 8831.198, 8696.989, 8741.402,\n",
              "        8949.547],\n",
              "       [8726.095, 8849.312, 8626.632, 8722.038, 8843.516, 8792.939,\n",
              "        8826.747]], dtype=float32)>"
            ]
          },
          "metadata": {},
          "execution_count": 65
        }
      ]
    },
    {
      "cell_type": "code",
      "source": [
        "# Calculate model_3 results - these are going to be multi-dimensional because\n",
        "# we're trying to predict more than one step at a time.\n",
        "model_3_results = evaluate_preds(y_true=tf.squeeze(test_labels),\n",
        "                                 y_pred=model_3_preds)\n",
        "model_3_results"
      ],
      "metadata": {
        "colab": {
          "base_uri": "https://localhost:8080/"
        },
        "id": "ZYh7aZIwdmK2",
        "outputId": "698e4953-076f-420d-ca48-44e660af0c96"
      },
      "execution_count": 66,
      "outputs": [
        {
          "output_type": "execute_result",
          "data": {
            "text/plain": [
              "{'mae': array([ 328.51898 ,  156.0099  ,  175.82408 ,  180.88406 ,  233.87389 ,\n",
              "         327.36838 ,  335.45996 ,  271.5044  ,  348.31027 ,  460.83804 ,\n",
              "         590.82214 ,  555.634   ,  576.06964 ,  633.2169  ,  417.42682 ,\n",
              "         206.38289 ,  254.19315 ,  391.5904  ,  411.66156 ,  443.5547  ,\n",
              "         209.87904 ,  120.6024  ,  123.4601  ,  176.9592  ,  153.87025 ,\n",
              "         193.65666 ,  217.2781  ,  228.76674 ,  194.25014 ,   65.65611 ,\n",
              "         153.48283 ,  199.62228 ,  137.25244 ,  184.3335  ,  151.04137 ,\n",
              "         205.93604 ,  228.43484 ,  235.18115 ,  238.70242 ,  378.4769  ,\n",
              "         605.8984  ,  318.56912 ,  216.23787 ,  260.0721  ,  110.01709 ,\n",
              "         197.78809 ,  160.12639 ,  149.57121 ,  123.62325 ,  191.94127 ,\n",
              "         127.192665,  120.07945 ,  111.53571 ,  191.76562 ,  402.3081  ,\n",
              "         500.67105 ,  725.7933  ,  709.84393 ,  677.36847 ,  693.1792  ,\n",
              "         598.5837  ,  413.39224 ,  358.88232 ,  493.85434 ,  624.4222  ,\n",
              "         639.0726  ,  684.3895  ,  708.29114 ,  307.03207 ,  159.58385 ,\n",
              "         133.12053 ,  238.65834 ,  321.34445 ,  188.27748 ,  145.37068 ,\n",
              "         236.88351 ,  294.6338  ,  500.9266  ,  657.81055 ,  871.26746 ,\n",
              "        1025.2386  ,  837.9379  ,  484.93597 ,  314.90765 ,  165.506   ,\n",
              "         225.31697 ,  282.7115  ,  438.87347 ,  515.18835 ,  768.05414 ,\n",
              "         645.834   ,  643.26495 ,  573.9476  ,  429.07993 ,  276.07114 ,\n",
              "         381.73715 ,  248.30428 ,  279.7641  ,  423.18973 ,  528.1479  ,\n",
              "         301.1861  ,  102.026924,  219.47224 ,  164.81738 ,  253.5752  ,\n",
              "         370.19867 ,  398.8312  ,  450.62988 ,  746.48566 ,  713.34125 ,\n",
              "         628.1352  ,  219.14662 ,  214.37486 ,  372.42313 ,  364.25613 ,\n",
              "         546.104   ,  388.3099  ,  402.6774  ,  511.84277 ,  845.51855 ,\n",
              "        1400.2396  , 1929.5065  , 1714.2659  , 1867.1954  , 2066.154   ,\n",
              "        2406.5447  , 1116.1735  ,  571.57245 ,  421.24463 ,  468.96213 ,\n",
              "         577.80896 ,  489.622   ,  606.79675 ,  407.65494 ,  367.84662 ,\n",
              "         371.75906 ,  478.29904 ,  385.7048  ,  170.72942 ,  250.48145 ,\n",
              "         249.96799 ,  323.87082 ,  359.86475 ,  749.39325 ,  824.12994 ,\n",
              "         572.8249  ,  508.8229  ,  257.89307 ,  417.44238 ,  201.34145 ,\n",
              "         322.25385 ,  327.71918 ,  244.55225 ,  362.49203 ,  254.17027 ,\n",
              "         188.7675  ,  265.57254 ,  283.9108  ,  328.5222  ,  255.28683 ,\n",
              "         438.98746 ,  292.2059  ,  261.9121  ,  300.76382 ,  359.29492 ,\n",
              "         504.66553 ,  685.16644 ,  868.78174 ,  677.6265  ,  765.69183 ,\n",
              "         990.31195 , 1044.7323  , 1155.3898  , 1250.385   ,  680.4855  ,\n",
              "         434.81137 ,  487.1328  ,  451.1494  ,  497.1324  ,  451.19937 ,\n",
              "         503.29477 ,  434.16254 ,  487.1179  ,  761.0971  ,  648.75226 ,\n",
              "         341.95453 ,  731.3786  ,  951.37836 ,  578.139   ,  138.36217 ,\n",
              "         215.87068 ,  236.7631  ,  265.22797 ,  276.96304 ,  445.13965 ,\n",
              "         405.03726 ,  174.28293 ,  225.66393 ,  301.00446 ,  420.71457 ,\n",
              "         693.4753  ,  962.1706  ,  918.55133 ,  661.66644 ,  470.2129  ,\n",
              "         249.97893 ,  373.53836 ,  154.33553 ,  112.64677 ,  144.25935 ,\n",
              "         182.83342 ,  234.6808  ,  226.09682 ,  257.10992 ,  144.51674 ,\n",
              "         219.66545 ,  303.64105 ,  184.76186 ,  226.34836 ,  109.24623 ,\n",
              "         128.98047 ,  119.92118 ,  192.14049 ,  188.18234 ,  196.66154 ,\n",
              "         245.68639 ,  368.56445 ,  234.61984 ,  127.516884,  353.1314  ,\n",
              "         143.78111 ,  158.28098 ,  169.33315 ,  239.67508 ,  225.93066 ,\n",
              "         222.96736 ,  198.53781 ,  193.17996 ,  254.81766 ,  358.572   ,\n",
              "         279.50488 ,  389.8369  ,  210.34529 ,  189.88254 ,   67.93373 ,\n",
              "         143.71889 ,  111.67718 ,  163.67537 ,  132.65736 ,   99.04534 ,\n",
              "         109.22545 ,  214.52414 ,  320.65277 ,  366.4273  ,  444.19406 ,\n",
              "         514.2538  ,  819.2845  ,  914.86456 , 1017.1586  , 1106.7693  ,\n",
              "        1341.0491  , 1559.2412  , 1531.4753  ,  742.11945 ,  426.76703 ,\n",
              "         244.62318 ,  279.22266 ,  364.7295  ,  221.84068 ,  294.4866  ,\n",
              "         309.15582 ,  456.1031  ,  185.9502  ,   89.38951 ,  135.566   ,\n",
              "         159.30916 ,  234.02065 ,  272.28613 ,  474.476   ,  456.77164 ,\n",
              "         404.07074 ,  256.69614 ,  266.5459  ,  194.27776 ,  177.06947 ,\n",
              "         335.97433 ,  221.5406  ,  168.70145 ,  199.52567 ,  124.804405,\n",
              "         179.35408 ,  153.18108 ,  348.91168 ,  398.30746 ,  493.06168 ,\n",
              "         490.50293 ,  574.88464 ,  640.4085  ,  865.6835  , 1208.0315  ,\n",
              "        1106.121   ,  602.97906 ,  314.90402 ,  337.73062 ,  457.0085  ,\n",
              "         371.23312 ,  553.03754 ,  621.25085 ,  659.03265 ,  659.1276  ,\n",
              "         679.8736  ,  674.124   ,  498.4905  ,  244.27678 ,  174.06892 ,\n",
              "         212.09529 ,  215.37541 ,  278.0551  ,  239.2765  ,  319.59207 ,\n",
              "         345.0332  ,  564.5155  ,  385.4223  ,  196.30399 ,  137.87053 ,\n",
              "         107.96247 ,   97.458145,  170.44336 ,  153.23592 ,  191.9117  ,\n",
              "         298.5477  ,  440.965   ,  519.736   ,  608.4671  ,  773.3446  ,\n",
              "         904.9566  ,  843.05927 ,  740.13184 ,  391.1352  ,  264.97238 ,\n",
              "         148.50266 ,  193.8824  ,  483.49664 ,  706.6317  ,  926.262   ,\n",
              "        1286.9198  , 1454.7208  , 1445.0226  , 1485.4567  ,  690.16504 ,\n",
              "         279.51855 ,  373.60574 ,  419.54156 ,  517.49774 ,  561.6888  ,\n",
              "         230.55496 ,  376.92145 ,  662.30457 ,  848.12823 ,  911.1928  ,\n",
              "        1048.3167  , 1443.2845  , 1502.3397  , 1501.3248  ,  656.55023 ,\n",
              "         457.2857  ,  662.3649  ,  493.42426 ,  874.21484 , 1174.0449  ,\n",
              "        1141.5516  ,  947.8304  , 1269.1299  , 1564.9254  , 2195.2263  ,\n",
              "        1899.2194  , 1358.2567  ,  878.6839  ,  822.10046 ,  557.56195 ,\n",
              "         679.0773  ,  758.68695 ,  829.0664  ,  880.64874 ,  872.2023  ,\n",
              "         973.9819  , 1649.2313  , 1773.346   , 1700.0996  ,  523.8909  ,\n",
              "         344.87555 ,  330.05637 ,  437.71957 ,  363.0385  ,  350.5466  ,\n",
              "         335.5399  ,  343.02734 ,  496.3387  , 1044.5931  , 1846.1923  ,\n",
              "        2925.7068  , 3163.3608  , 3506.77    , 3755.8967  , 3967.3384  ,\n",
              "        2812.0881  , 1382.4924  ,  833.0321  ,  813.9121  , 1209.0779  ,\n",
              "        1596.247   , 2017.6113  , 3087.8828  , 3602.7761  , 3548.6614  ,\n",
              "        2896.92    , 3014.4016  , 3294.4846  , 4072.3125  , 3849.7107  ,\n",
              "        4534.5063  , 5593.0347  , 4848.136   , 4534.7017  , 5022.5005  ,\n",
              "        3648.9084  , 2802.0898  , 2167.072   , 3720.8967  , 5088.3936  ,\n",
              "        4549.4575  , 1285.24    , 1471.4525  ,  811.78235 , 2258.274   ,\n",
              "        2617.845   , 2551.6714  , 2632.5737  , 2794.252   , 3134.7888  ,\n",
              "        3230.4563  ,  721.50555 , 1104.9062  , 1512.8242  , 1576.2709  ,\n",
              "        1723.1613  , 2726.1606  , 4327.891   , 4026.4832  , 3070.048   ,\n",
              "        3221.894   , 3866.451   , 5691.1978  , 6187.183   , 5270.41    ,\n",
              "        5549.109   , 6765.8384  , 6658.816   , 8874.058   , 5527.438   ,\n",
              "        1914.5803  , 2473.3416  , 1939.14    , 2526.8638  , 3078.2825  ,\n",
              "        3882.3455  , 3586.1814  , 4427.1343  , 2928.8298  , 3234.1501  ,\n",
              "        4840.11    , 6313.5615  , 9097.119   , 8266.99    , 3940.4185  ,\n",
              "        2087.1753  , 1849.5892  , 2020.9436  , 3077.9878  , 4941.029   ,\n",
              "        3899.631   , 3729.3494  , 3554.726   , 4923.805   , 6416.785   ,\n",
              "        7481.531   , 7283.4653  , 6639.5825  , 5475.907   , 3191.1914  ,\n",
              "        2097.259   , 2344.241   , 1145.8147  , 1668.4001  , 1336.7874  ,\n",
              "        1877.1105  , 2151.4995  , 3018.7166  , 4239.6606  , 3971.048   ,\n",
              "        3805.2903  , 1726.3103  , 2345.7183  , 3874.7656  , 5331.1953  ,\n",
              "        5690.3516  , 3242.644   , 3830.0247  , 2844.1519  , 1793.2522  ,\n",
              "         898.5257  , 1009.3711  ,  714.529   ,  955.8633  ,  982.25226 ,\n",
              "        1548.4436  , 2165.5122  , 3852.227   , 4608.3706  , 4846.392   ,\n",
              "        3751.3784  , 3574.2583  , 3256.052   , 2854.8315  , 4467.391   ,\n",
              "        5827.8823  , 7209.0386  , 6801.5186  , 4827.4014  , 3548.6138  ,\n",
              "        3145.384   , 2107.9966  , 2325.6433  , 3953.8762  , 5017.387   ,\n",
              "        7237.8623  , 4849.3228  , 2706.2551  , 2498.4487  , 3476.6277  ,\n",
              "        2214.066   , 1308.2467  , 2058.3225  , 1911.048   , 3391.7388  ,\n",
              "        2448.039   , 2628.1433  , 2902.72    , 4679.239   , 5859.29    ,\n",
              "        6969.7026  ], dtype=float32),\n",
              " 'mse': array([1.30928547e+05, 4.79471250e+04, 6.48455273e+04, 4.78017148e+04,\n",
              "        9.31528594e+04, 1.50356422e+05, 1.46882781e+05, 1.42104297e+05,\n",
              "        2.20963078e+05, 3.17304719e+05, 5.08424656e+05, 4.16869719e+05,\n",
              "        3.75136844e+05, 4.36037094e+05, 2.02612047e+05, 6.74006250e+04,\n",
              "        9.74417344e+04, 2.11022328e+05, 2.05544844e+05, 2.32024891e+05,\n",
              "        5.55043477e+04, 3.33382422e+04, 2.10727949e+04, 4.23415195e+04,\n",
              "        3.66907461e+04, 6.08118438e+04, 8.26848750e+04, 6.51531953e+04,\n",
              "        4.89693711e+04, 6.93449121e+03, 3.32116484e+04, 5.01713555e+04,\n",
              "        4.73214453e+04, 8.12389922e+04, 4.16646797e+04, 6.77956094e+04,\n",
              "        8.56788828e+04, 7.68869844e+04, 8.86159219e+04, 1.58308547e+05,\n",
              "        3.93363312e+05, 1.11708227e+05, 5.48409180e+04, 7.39642578e+04,\n",
              "        1.65704277e+04, 5.21605117e+04, 3.75689375e+04, 4.32422461e+04,\n",
              "        2.09472207e+04, 3.94684570e+04, 2.27239570e+04, 2.29691289e+04,\n",
              "        1.99896074e+04, 5.40379648e+04, 2.33165375e+05, 3.94831062e+05,\n",
              "        6.35835688e+05, 6.03765688e+05, 5.38329812e+05, 5.00904969e+05,\n",
              "        3.81136500e+05, 2.46866719e+05, 2.37290125e+05, 3.76580500e+05,\n",
              "        5.40167312e+05, 5.17928656e+05, 5.44882625e+05, 5.20814969e+05,\n",
              "        1.16167203e+05, 3.58248477e+04, 3.52558711e+04, 7.84597656e+04,\n",
              "        1.27211461e+05, 5.13931367e+04, 2.62911250e+04, 7.60354219e+04,\n",
              "        1.26085867e+05, 3.84328469e+05, 6.28837500e+05, 8.74260875e+05,\n",
              "        1.09801575e+06, 7.17473125e+05, 2.45312969e+05, 1.13103570e+05,\n",
              "        4.13682891e+04, 7.66749219e+04, 1.06785117e+05, 2.58021719e+05,\n",
              "        3.60753250e+05, 6.27620875e+05, 4.82689688e+05, 4.79412438e+05,\n",
              "        3.51337594e+05, 2.47223172e+05, 1.07149539e+05, 1.77579891e+05,\n",
              "        8.04212500e+04, 1.39285844e+05, 2.25339844e+05, 3.15830969e+05,\n",
              "        1.18868000e+05, 1.31437637e+04, 1.04647609e+05, 4.59918750e+04,\n",
              "        1.59969000e+05, 2.16560281e+05, 2.13457031e+05, 2.79740781e+05,\n",
              "        6.99188875e+05, 5.84618125e+05, 4.24357906e+05, 5.94398555e+04,\n",
              "        5.06850742e+04, 1.79118172e+05, 1.74463641e+05, 3.42611188e+05,\n",
              "        2.04034266e+05, 1.94135281e+05, 2.71149281e+05, 1.56924288e+06,\n",
              "        3.19659450e+06, 5.12079900e+06, 4.27409900e+06, 4.74760900e+06,\n",
              "        4.91842150e+06, 5.84385450e+06, 1.36274962e+06, 3.97150844e+05,\n",
              "        2.72990625e+05, 2.84053688e+05, 4.92135531e+05, 3.46591781e+05,\n",
              "        4.40930312e+05, 2.16055719e+05, 1.94746719e+05, 1.70918953e+05,\n",
              "        2.72070406e+05, 1.85199969e+05, 5.06837070e+04, 1.22088750e+05,\n",
              "        1.36248156e+05, 1.71312344e+05, 1.61267859e+05, 6.62680938e+05,\n",
              "        7.51795938e+05, 3.75645719e+05, 2.82936344e+05, 9.41105781e+04,\n",
              "        2.26737750e+05, 5.66480000e+04, 1.29934945e+05, 1.25631992e+05,\n",
              "        7.98858203e+04, 1.64546750e+05, 9.50816094e+04, 4.24565273e+04,\n",
              "        1.08327062e+05, 1.09993375e+05, 1.52548875e+05, 8.64732656e+04,\n",
              "        2.21057391e+05, 1.28088266e+05, 1.08643859e+05, 1.28617727e+05,\n",
              "        1.50962969e+05, 3.20344719e+05, 5.19352781e+05, 9.43845500e+05,\n",
              "        7.30355312e+05, 9.22250438e+05, 1.36670062e+06, 1.40187538e+06,\n",
              "        1.49474425e+06, 1.57436875e+06, 5.11669031e+05, 2.99016812e+05,\n",
              "        4.25190719e+05, 3.73032062e+05, 3.69820594e+05, 3.00530531e+05,\n",
              "        3.49327938e+05, 2.30338531e+05, 3.83356688e+05, 7.35948188e+05,\n",
              "        5.85066312e+05, 1.46780188e+05, 6.19274188e+05, 9.47395500e+05,\n",
              "        3.58955781e+05, 2.73495098e+04, 5.93383828e+04, 7.53750078e+04,\n",
              "        1.01993758e+05, 1.05408375e+05, 2.38884250e+05, 1.76068781e+05,\n",
              "        4.97244805e+04, 1.09105172e+05, 1.43282797e+05, 2.39982344e+05,\n",
              "        6.44728562e+05, 1.09813900e+06, 9.40660562e+05, 5.12135406e+05,\n",
              "        3.45824969e+05, 1.00211359e+05, 2.15600000e+05, 3.19271523e+04,\n",
              "        2.15805195e+04, 2.93666426e+04, 6.59516016e+04, 7.23735078e+04,\n",
              "        7.23941875e+04, 7.48390469e+04, 2.80493027e+04, 7.09980547e+04,\n",
              "        1.09799422e+05, 5.18977422e+04, 5.99185547e+04, 1.63436064e+04,\n",
              "        2.13218965e+04, 1.87866152e+04, 5.70042891e+04, 7.23850781e+04,\n",
              "        7.75641953e+04, 7.11489453e+04, 1.49301266e+05, 8.72183125e+04,\n",
              "        2.59903379e+04, 1.34971547e+05, 2.67162969e+04, 3.07522637e+04,\n",
              "        4.79747852e+04, 6.63686172e+04, 7.36794844e+04, 5.31033750e+04,\n",
              "        4.83665742e+04, 5.20666875e+04, 1.05099234e+05, 1.62834719e+05,\n",
              "        8.87101641e+04, 1.64380672e+05, 4.96211523e+04, 5.39204180e+04,\n",
              "        7.54797754e+03, 2.33540156e+04, 1.53216406e+04, 3.93528750e+04,\n",
              "        2.34128711e+04, 1.60452373e+04, 1.45989434e+04, 6.20411758e+04,\n",
              "        1.44194812e+05, 1.89603984e+05, 2.55408844e+05, 3.18493031e+05,\n",
              "        9.65299562e+05, 1.29919000e+06, 1.62465425e+06, 1.75730838e+06,\n",
              "        2.23094925e+06, 2.69408575e+06, 2.44943025e+06, 6.20548500e+05,\n",
              "        2.25710484e+05, 1.20501141e+05, 1.23482438e+05, 1.97699391e+05,\n",
              "        7.33925938e+04, 1.11093336e+05, 1.16560914e+05, 2.45228594e+05,\n",
              "        4.97304023e+04, 1.37803770e+04, 3.27683281e+04, 3.35920117e+04,\n",
              "        7.03369766e+04, 1.05350242e+05, 2.94660188e+05, 3.04026656e+05,\n",
              "        2.11092422e+05, 1.11819297e+05, 9.73189219e+04, 8.85747891e+04,\n",
              "        4.37596250e+04, 1.35051453e+05, 7.37749922e+04, 5.87476562e+04,\n",
              "        5.68364180e+04, 2.33140195e+04, 5.82064062e+04, 3.72018789e+04,\n",
              "        1.45600250e+05, 2.69375281e+05, 3.04998906e+05, 2.85190344e+05,\n",
              "        4.44026000e+05, 5.82549375e+05, 8.96059438e+05, 1.67803875e+06,\n",
              "        1.28733138e+06, 4.30303500e+05, 1.22612125e+05, 1.55973625e+05,\n",
              "        2.49399609e+05, 1.82414125e+05, 3.62868188e+05, 4.95785188e+05,\n",
              "        5.45730125e+05, 5.66141312e+05, 5.42369125e+05, 4.87751969e+05,\n",
              "        2.88981562e+05, 8.55499219e+04, 5.95190938e+04, 7.36976953e+04,\n",
              "        5.24110664e+04, 1.28088914e+05, 7.78277891e+04, 1.19937195e+05,\n",
              "        1.62693000e+05, 3.44616031e+05, 1.66362797e+05, 4.98879609e+04,\n",
              "        2.17616504e+04, 1.86720215e+04, 1.45314219e+04, 3.29501680e+04,\n",
              "        4.12093555e+04, 4.69665312e+04, 1.25428555e+05, 2.73199438e+05,\n",
              "        3.93732562e+05, 5.48336375e+05, 7.44982312e+05, 9.09843625e+05,\n",
              "        7.59100500e+05, 5.82689062e+05, 1.67611516e+05, 8.39107266e+04,\n",
              "        2.71539316e+04, 6.58198516e+04, 5.07134094e+05, 1.01801962e+06,\n",
              "        1.42302162e+06, 2.15509125e+06, 2.46400175e+06, 2.25399250e+06,\n",
              "        2.25135175e+06, 5.55755625e+05, 1.48510453e+05, 1.88097516e+05,\n",
              "        2.60365891e+05, 3.38330062e+05, 3.71135844e+05, 7.32940000e+04,\n",
              "        1.73250203e+05, 7.48378375e+05, 1.34555462e+06, 1.42456612e+06,\n",
              "        1.67822538e+06, 2.45925075e+06, 2.43609575e+06, 2.31894525e+06,\n",
              "        6.03716438e+05, 3.33552500e+05, 5.93918188e+05, 3.62219688e+05,\n",
              "        8.89241125e+05, 1.68749600e+06, 1.79932938e+06, 1.52411200e+06,\n",
              "        2.22171050e+06, 3.23043450e+06, 5.31021850e+06, 3.80951625e+06,\n",
              "        2.01284188e+06, 8.71430562e+05, 7.49027625e+05, 5.91086375e+05,\n",
              "        7.56477312e+05, 9.82388562e+05, 9.96950688e+05, 1.27471712e+06,\n",
              "        1.00988119e+06, 1.27088938e+06, 3.35190400e+06, 3.31094425e+06,\n",
              "        2.99022875e+06, 3.33030906e+05, 1.42719484e+05, 1.67943219e+05,\n",
              "        2.67321594e+05, 2.04224000e+05, 1.49412109e+05, 1.36860141e+05,\n",
              "        1.67118781e+05, 3.11095656e+05, 1.62749888e+06, 5.67044250e+06,\n",
              "        1.14334730e+07, 1.38574220e+07, 1.59537930e+07, 1.64878990e+07,\n",
              "        1.62488700e+07, 8.11043450e+06, 2.01102438e+06, 9.68916688e+05,\n",
              "        1.35766325e+06, 2.47008475e+06, 4.17552625e+06, 6.07708550e+06,\n",
              "        1.17721460e+07, 1.47808500e+07, 1.41617310e+07, 1.22615930e+07,\n",
              "        1.42007360e+07, 1.49997510e+07, 2.06431560e+07, 2.09654860e+07,\n",
              "        3.08529920e+07, 4.29086280e+07, 3.49706480e+07, 2.60312520e+07,\n",
              "        3.13074820e+07, 1.85731960e+07, 9.64761800e+06, 7.61488250e+06,\n",
              "        1.85613160e+07, 2.96572060e+07, 2.24410980e+07, 1.98107538e+06,\n",
              "        3.01547975e+06, 1.11397025e+06, 7.33126400e+06, 1.00803730e+07,\n",
              "        1.10841810e+07, 1.16518020e+07, 8.91772300e+06, 1.19125600e+07,\n",
              "        1.15126400e+07, 7.01213312e+05, 2.17638350e+06, 3.66409050e+06,\n",
              "        3.66469650e+06, 3.85154525e+06, 9.10342300e+06, 2.06706940e+07,\n",
              "        1.98453300e+07, 1.28163860e+07, 1.40462500e+07, 1.89098340e+07,\n",
              "        4.04912080e+07, 5.35086640e+07, 4.30108880e+07, 4.45341680e+07,\n",
              "        5.89394360e+07, 5.30453120e+07, 8.03580960e+07, 3.27665980e+07,\n",
              "        4.78231250e+06, 8.00040100e+06, 6.60305300e+06, 1.29505460e+07,\n",
              "        1.52618240e+07, 2.27516020e+07, 1.79384780e+07, 2.37284300e+07,\n",
              "        1.07436710e+07, 1.15958250e+07, 3.51104560e+07, 4.98126920e+07,\n",
              "        9.12047200e+07, 6.99880160e+07, 1.95159960e+07, 8.73240000e+06,\n",
              "        5.09763100e+06, 4.69777700e+06, 1.17335270e+07, 2.58455880e+07,\n",
              "        1.76043140e+07, 1.75351340e+07, 2.34496500e+07, 3.50106800e+07,\n",
              "        5.18477360e+07, 6.82070960e+07, 6.43435280e+07, 4.96834840e+07,\n",
              "        3.18757260e+07, 1.32082720e+07, 6.28078150e+06, 7.46667350e+06,\n",
              "        1.92411800e+06, 4.00855525e+06, 4.87475600e+06, 4.83828700e+06,\n",
              "        8.18311150e+06, 1.51579450e+07, 2.31051040e+07, 1.89610740e+07,\n",
              "        1.68983400e+07, 3.28095075e+06, 7.00653450e+06, 2.03604780e+07,\n",
              "        3.07691240e+07, 3.51094120e+07, 1.27454710e+07, 1.50843170e+07,\n",
              "        8.49259000e+06, 3.80371450e+06, 1.10658425e+06, 1.43563625e+06,\n",
              "        7.60464438e+05, 1.19202475e+06, 1.76536488e+06, 3.75262850e+06,\n",
              "        6.84043300e+06, 1.90423520e+07, 2.68266380e+07, 2.80504680e+07,\n",
              "        1.70860140e+07, 1.41626300e+07, 1.14009350e+07, 1.15453390e+07,\n",
              "        2.81204260e+07, 4.36309160e+07, 6.25755800e+07, 5.31284040e+07,\n",
              "        3.15351480e+07, 1.42899650e+07, 1.34215370e+07, 5.93322000e+06,\n",
              "        6.96553750e+06, 1.76939000e+07, 3.13431660e+07, 5.51717760e+07,\n",
              "        2.58657280e+07, 1.00011890e+07, 8.44809700e+06, 1.34020320e+07,\n",
              "        6.01133450e+06, 2.72301775e+06, 5.32693450e+06, 5.72950150e+06,\n",
              "        1.40292910e+07, 7.76204650e+06, 9.71529900e+06, 1.49192480e+07,\n",
              "        3.36097320e+07, 4.92164520e+07, 6.22586480e+07], dtype=float32),\n",
              " 'rmse': array([ 361.8405  ,  218.96829 ,  254.64783 ,  218.63602 ,  305.20953 ,\n",
              "         387.7582  ,  383.2529  ,  376.96722 ,  470.0671  ,  563.2981  ,\n",
              "         713.03906 ,  645.6545  ,  612.4842  ,  660.33105 ,  450.12445 ,\n",
              "         259.61627 ,  312.1566  ,  459.3717  ,  453.37054 ,  481.6896  ,\n",
              "         235.59363 ,  182.58762 ,  145.1647  ,  205.77052 ,  191.54826 ,\n",
              "         246.60057 ,  287.54977 ,  255.25124 ,  221.29025 ,   83.2736  ,\n",
              "         182.24062 ,  223.98962 ,  217.53494 ,  285.02454 ,  204.11928 ,\n",
              "         260.37592 ,  292.70956 ,  277.28503 ,  297.68427 ,  397.88007 ,\n",
              "         627.1868  ,  334.2278  ,  234.1814  ,  271.9637  ,  128.72617 ,\n",
              "         228.38676 ,  193.82709 ,  207.94771 ,  144.73154 ,  198.66669 ,\n",
              "         150.74466 ,  151.5557  ,  141.3846  ,  232.4607  ,  482.872   ,\n",
              "         628.3559  ,  797.393   ,  777.02356 ,  733.70966 ,  707.7464  ,\n",
              "         617.3625  ,  496.85687 ,  487.12433 ,  613.66156 ,  734.96075 ,\n",
              "         719.6726  ,  738.1616  ,  721.6751  ,  340.8331  ,  189.27454 ,\n",
              "         187.76547 ,  280.1067  ,  356.66718 ,  226.70055 ,  162.14539 ,\n",
              "         275.74518 ,  355.0857  ,  619.9423  ,  792.99274 ,  935.01917 ,\n",
              "        1047.8625  ,  847.03784 ,  495.29077 ,  336.30875 ,  203.39197 ,\n",
              "         276.90234 ,  326.7799  ,  507.9584  ,  600.6274  ,  792.2253  ,\n",
              "         694.7587  ,  692.3962  ,  592.7374  ,  497.2154  ,  327.33704 ,\n",
              "         421.40228 ,  283.5864  ,  373.21014 ,  474.69977 ,  561.9884  ,\n",
              "         344.77237 ,  114.64625 ,  323.49283 ,  214.45717 ,  399.96127 ,\n",
              "         465.36038 ,  462.0141  ,  528.9053  ,  836.1751  ,  764.6032  ,\n",
              "         651.4276  ,  243.80292 ,  225.13347 ,  423.2235  ,  417.6884  ,\n",
              "         585.32996 ,  451.70148 ,  440.60785 ,  520.72    , 1252.6942  ,\n",
              "        1787.9022  , 2262.9182  , 2067.3896  , 2178.9006  , 2217.7512  ,\n",
              "        2417.4065  , 1167.3687  ,  630.1991  ,  522.48505 ,  532.96686 ,\n",
              "         701.52374 ,  588.72046 ,  664.0259  ,  464.81796 ,  441.30115 ,\n",
              "         413.42346 ,  521.6037  ,  430.34863 ,  225.13043 ,  349.412   ,\n",
              "         369.1181  ,  413.89896 ,  401.5817  ,  814.0521  ,  867.0617  ,\n",
              "         612.8994  ,  531.9176  ,  306.77448 ,  476.16986 ,  238.0084  ,\n",
              "         360.4649  ,  354.44604 ,  282.6408  ,  405.64362 ,  308.35306 ,\n",
              "         206.04984 ,  329.13077 ,  331.65247 ,  390.57504 ,  294.06335 ,\n",
              "         470.1674  ,  357.8942  ,  329.6117  ,  358.63312 ,  388.53958 ,\n",
              "         565.99005 ,  720.6613  ,  971.51715 ,  854.6083  ,  960.33875 ,\n",
              "        1169.0597  , 1184.0082  , 1222.5973  , 1254.7385  ,  715.3104  ,\n",
              "         546.8243  ,  652.0665  ,  610.7635  ,  608.1288  ,  548.20667 ,\n",
              "         591.03973 ,  479.936   ,  619.1581  ,  857.87427 ,  764.89624 ,\n",
              "         383.11902 ,  786.93976 ,  973.34247 ,  599.12915 ,  165.37688 ,\n",
              "         243.59471 ,  274.54507 ,  319.36462 ,  324.66653 ,  488.75784 ,\n",
              "         419.60547 ,  222.98987 ,  330.3107  ,  378.52716 ,  489.87994 ,\n",
              "         802.9499  , 1047.9213  ,  969.8765  ,  715.63635 ,  588.06885 ,\n",
              "         316.5618  ,  464.32748 ,  178.6817  ,  146.90309 ,  171.36697 ,\n",
              "         256.81046 ,  269.02325 ,  269.06168 ,  273.56726 ,  167.47926 ,\n",
              "         266.4546  ,  331.36    ,  227.81076 ,  244.78268 ,  127.8421  ,\n",
              "         146.02019 ,  137.06427 ,  238.75572 ,  269.04474 ,  278.50348 ,\n",
              "         266.73758 ,  386.39523 ,  295.32748 ,  161.21518 ,  367.38477 ,\n",
              "         163.4512  ,  175.36324 ,  219.03148 ,  257.62106 ,  271.43967 ,\n",
              "         230.4417  ,  219.924   ,  228.18126 ,  324.1901  ,  403.52783 ,\n",
              "         297.84253 ,  405.43887 ,  222.75806 ,  232.20772 ,   86.8791  ,\n",
              "         152.8202  ,  123.780624,  198.3756  ,  153.01265 ,  126.6698  ,\n",
              "         120.82609 ,  249.08067 ,  379.72992 ,  435.43542 ,  505.37988 ,\n",
              "         564.35187 ,  982.4966  , 1139.8202  , 1274.6194  , 1325.635   ,\n",
              "        1493.6364  , 1641.367   , 1565.0656  ,  787.74896 ,  475.08997 ,\n",
              "         347.13272 ,  351.4007  ,  444.634   ,  270.91068 ,  333.30664 ,\n",
              "         341.4102  ,  495.2056  ,  223.00314 ,  117.389854,  181.02023 ,\n",
              "         183.28122 ,  265.21118 ,  324.57703 ,  542.82605 ,  551.3861  ,\n",
              "         459.44794 ,  334.39392 ,  311.9598  ,  297.61514 ,  209.188   ,\n",
              "         367.49347 ,  271.6155  ,  242.37914 ,  238.4039  ,  152.68929 ,\n",
              "         241.26003 ,  192.87788 ,  381.57602 ,  519.01373 ,  552.2671  ,\n",
              "         534.0321  ,  666.3527  ,  763.2492  ,  946.60406 , 1295.3914  ,\n",
              "        1134.6062  ,  655.9752  ,  350.16016 ,  394.93494 ,  499.39926 ,\n",
              "         427.0997  ,  602.38544 ,  704.1202  ,  738.7354  ,  752.42365 ,\n",
              "         736.45715 ,  698.3924  ,  537.57007 ,  292.4892  ,  243.96535 ,\n",
              "         271.47318 ,  228.93462 ,  357.8951  ,  278.97632 ,  346.31952 ,\n",
              "         403.35217 ,  587.04004 ,  407.87595 ,  223.35612 ,  147.5183  ,\n",
              "         136.6456  ,  120.54636 ,  181.5218  ,  203.00089 ,  216.71762 ,\n",
              "         354.15894 ,  522.6848  ,  627.4811  ,  740.4973  ,  863.1236  ,\n",
              "         953.85736 ,  871.26373 ,  763.3407  ,  409.40387 ,  289.6735  ,\n",
              "         164.7845  ,  256.5538  ,  712.1334  , 1008.96967 , 1192.9048  ,\n",
              "        1468.0228  , 1569.7139  , 1501.3302  , 1500.4506  ,  745.4901  ,\n",
              "         385.37054 ,  433.7021  ,  510.2606  ,  581.6615  ,  609.2092  ,\n",
              "         270.72864 ,  416.23334 ,  865.0887  , 1159.9803  , 1193.5519  ,\n",
              "        1295.4634  , 1568.1997  , 1560.7997  , 1522.8083  ,  776.9919  ,\n",
              "         577.54    ,  770.66077 ,  601.84686 ,  942.99585 , 1299.0365  ,\n",
              "        1341.3907  , 1234.5493  , 1490.5403  , 1797.341   , 2304.391   ,\n",
              "        1951.7981  , 1418.7466  ,  933.5044  ,  865.4638  ,  768.82135 ,\n",
              "         869.757   ,  991.15515 ,  998.4741  , 1129.0337  , 1004.9284  ,\n",
              "        1127.3372  , 1830.8206  , 1819.6001  , 1729.2277  ,  577.0883  ,\n",
              "         377.78232 ,  409.80875 ,  517.03156 ,  451.9115  ,  386.53864 ,\n",
              "         369.9461  ,  408.80164 ,  557.7595  , 1275.7346  , 2381.269   ,\n",
              "        3381.3416  , 3722.5557  , 3994.22    , 4060.5293  , 4030.9885  ,\n",
              "        2847.8823  , 1418.106   ,  984.3357  , 1165.1881  , 1571.6503  ,\n",
              "        2043.4104  , 2465.1746  , 3431.0557  , 3844.5874  , 3763.2073  ,\n",
              "        3501.6553  , 3768.3865  , 3872.9507  , 4543.473   , 4578.808   ,\n",
              "        5554.5464  , 6550.468   , 5913.5986  , 5102.083   , 5595.3086  ,\n",
              "        4309.663   , 3106.0615  , 2759.5078  , 4308.284   , 5445.843   ,\n",
              "        4737.2036  , 1407.5067  , 1736.5138  , 1055.4479  , 2707.6306  ,\n",
              "        3174.9602  , 3329.291   , 3413.4736  , 2986.2556  , 3451.4575  ,\n",
              "        3393.028   ,  837.38477 , 1475.2571  , 1914.1813  , 1914.3398  ,\n",
              "        1962.5353  , 3017.188   , 4546.5034  , 4454.8096  , 3579.9983  ,\n",
              "        3747.8325  , 4348.544   , 6363.27    , 7314.961   , 6558.269   ,\n",
              "        6673.392   , 7677.203   , 7283.2207  , 8964.268   , 5724.2114  ,\n",
              "        2186.85    , 2828.4978  , 2569.6404  , 3598.6868  , 3906.6382  ,\n",
              "        4769.864   , 4235.384   , 4871.1836  , 3277.7542  , 3405.2644  ,\n",
              "        5925.4077  , 7057.8105  , 9550.116   , 8365.884   , 4417.691   ,\n",
              "        2955.063   , 2257.7935  , 2167.4355  , 3425.4238  , 5083.8555  ,\n",
              "        4195.7495  , 4187.4976  , 4842.484   , 5916.9824  , 7200.5376  ,\n",
              "        8258.759   , 8021.4424  , 7048.6514  , 5645.8594  , 3634.3186  ,\n",
              "        2506.1487  , 2732.5215  , 1387.1257  , 2002.1376  , 2207.8848  ,\n",
              "        2199.6104  , 2860.614   , 3893.3206  , 4806.777   , 4354.431   ,\n",
              "        4110.7593  , 1811.3395  , 2646.986   , 4512.2583  , 5546.992   ,\n",
              "        5925.32    , 3570.08    , 3883.853   , 2914.2048  , 1950.3114  ,\n",
              "        1051.9431  , 1198.1803  ,  872.0461  , 1091.7988  , 1328.6704  ,\n",
              "        1937.1703  , 2615.422   , 4363.7544  , 5179.444   , 5296.2695  ,\n",
              "        4133.523   , 3763.3267  , 3376.527   , 3397.8433  , 5302.869   ,\n",
              "        6605.37    , 7910.473   , 7288.924   , 5615.6167  , 3780.207   ,\n",
              "        3663.542   , 2435.82    , 2639.2305  , 4206.4116  , 5598.4966  ,\n",
              "        7427.7705  , 5085.836   , 3162.4656  , 2906.561   , 3660.8784  ,\n",
              "        2451.8022  , 1650.1569  , 2308.0154  , 2393.6375  , 3745.5696  ,\n",
              "        2786.045   , 3116.9375  , 3862.5442  , 5797.39    , 7015.444   ,\n",
              "        7890.415   ], dtype=float32),\n",
              " 'mape': array([ 3.75889  ,  1.7958803,  2.0062084,  2.1115942,  2.781799 ,\n",
              "         3.9302063,  4.0578694,  3.4183285,  4.5427628,  6.0988417,\n",
              "         8.02528  ,  7.6204634,  7.9182706,  8.72662  ,  5.7772355,\n",
              "         2.8541985,  3.4026601,  5.2034388,  5.485432 ,  5.913367 ,\n",
              "         2.8074355,  1.5948735,  1.6673872,  2.408438 ,  2.0681624,\n",
              "         2.5966766,  2.9043841,  3.076223 ,  2.6173978,  0.8893627,\n",
              "         2.1163068,  2.7820241,  1.9559128,  2.703444 ,  2.1897957,\n",
              "         2.9393618,  3.2949374,  3.3741343,  3.4096446,  5.265877 ,\n",
              "         8.354504 ,  4.417617 ,  2.9975343,  3.6005893,  1.5252331,\n",
              "         2.722626 ,  2.1955857,  2.0486462,  1.7005059,  2.6599445,\n",
              "         1.7446439,  1.6473094,  1.5544155,  2.5939996,  5.2979803,\n",
              "         6.4193063,  9.324591 ,  8.991523 ,  8.4894   ,  8.643377 ,\n",
              "         7.416334 ,  4.9749517,  4.1921215,  5.732714 ,  7.1696587,\n",
              "         7.269813 ,  7.7765303,  8.051417 ,  3.4798052,  1.8146781,\n",
              "         1.5324512,  2.787571 ,  3.7871282,  2.2256355,  1.7068937,\n",
              "         2.755171 ,  3.3049285,  5.4553757,  7.0784035,  9.3845005,\n",
              "        10.994653 ,  8.954079 ,  5.1764483,  3.3359566,  1.7388022,\n",
              "         2.3507345,  2.925159 ,  4.471939 ,  5.206792 ,  7.730805 ,\n",
              "         6.4065657,  6.341048 ,  5.6290445,  4.181946 ,  2.6962156,\n",
              "         3.7550428,  2.4619524,  2.8642135,  4.3282566,  5.4229903,\n",
              "         3.104112 ,  1.0402633,  2.2009287,  1.715431 ,  2.7584481,\n",
              "         4.0247836,  4.3943963,  5.0449395,  8.53509  ,  8.1558895,\n",
              "         7.1935234,  2.5170228,  2.4355738,  4.1745324,  4.0613117,\n",
              "         6.1425915,  4.4945903,  4.737763 ,  6.107495 , 12.553891 ,\n",
              "        21.877748 , 31.799358 , 30.131441 , 34.554707 , 38.21657  ,\n",
              "        44.740532 , 20.779154 , 10.630153 ,  7.357099 ,  7.9373918,\n",
              "         9.396775 ,  7.7481904,  9.43545  ,  6.214839 ,  5.768382 ,\n",
              "         5.6757236,  7.2584996,  5.823418 ,  2.7286525,  4.034012 ,\n",
              "         4.041036 ,  5.123819 ,  5.459292 , 11.154462 , 12.026494 ,\n",
              "         8.217456 ,  7.208991 ,  3.5813053,  5.794091 ,  2.8166978,\n",
              "         4.4639773,  4.668215 ,  3.4894693,  5.280681 ,  3.7020392,\n",
              "         2.7369022,  3.738388 ,  3.991158 ,  4.6052427,  3.5867977,\n",
              "         6.1707535,  4.0181193,  3.5502262,  4.0816927,  4.8698535,\n",
              "         6.6726394,  9.0012455, 10.913032 ,  8.141712 ,  8.94869  ,\n",
              "        11.394299 , 11.878777 , 13.089856 , 14.082161 ,  7.5493627,\n",
              "         4.6387086,  5.056176 ,  4.640911 ,  5.1615534,  4.7334423,\n",
              "         5.265068 ,  4.6943436,  5.479179 ,  8.49942  ,  7.2790756,\n",
              "         3.7406142,  7.6697283,  9.908209 ,  5.9990134,  1.4631315,\n",
              "         2.2889557,  2.4861138,  2.8630455,  3.0184147,  4.9290476,\n",
              "         4.48148  ,  1.9435031,  2.4186616,  3.2110307,  4.4651346,\n",
              "         7.1563787,  9.93431  ,  9.455396 ,  6.765432 ,  4.749938 ,\n",
              "         2.5274875,  3.769226 ,  1.5974779,  1.1559974,  1.4752955,\n",
              "         1.9188179,  2.4192574,  2.3249214,  2.684355 ,  1.5200533,\n",
              "         2.3227549,  3.2295082,  1.9528353,  2.39878  ,  1.1599041,\n",
              "         1.3727024,  1.2670519,  2.017454 ,  1.9683477,  2.0599637,\n",
              "         2.60302  ,  3.930227 ,  2.4770975,  1.3719459,  3.8533587,\n",
              "         1.5688553,  1.7357806,  1.8497005,  2.6207304,  2.4693277,\n",
              "         2.4380684,  2.1598577,  2.0856452,  2.7406883,  3.8594284,\n",
              "         3.0126839,  4.194964 ,  2.266103 ,  2.0368388,  0.7350595,\n",
              "         1.5564253,  1.2135738,  1.7776695,  1.4436677,  1.0767353,\n",
              "         1.1855124,  2.3035274,  3.4050367,  3.863746 ,  4.6507215,\n",
              "         5.328061 ,  8.055944 ,  8.711613 ,  9.391518 , 10.081508 ,\n",
              "        12.0984535, 13.86731  , 13.548485 ,  6.5406075,  3.742852 ,\n",
              "         2.1120548,  2.4021072,  3.1308644,  1.9570069,  2.5261414,\n",
              "         2.6383061,  3.88879  ,  1.5842987,  0.7737669,  1.1690387,\n",
              "         1.3737893,  1.9992511,  2.291519 ,  3.946229 ,  3.7832248,\n",
              "         3.3528614,  2.1230097,  2.2176926,  1.6020176,  1.513364 ,\n",
              "         2.8945868,  1.907439 ,  1.4738573,  1.7196709,  1.0828464,\n",
              "         1.568086 ,  1.3300724,  2.994576 ,  3.3958972,  4.27248  ,\n",
              "         4.3256497,  5.2590966,  6.0843277,  8.261941 , 11.721525 ,\n",
              "        10.768501 ,  5.9062304,  3.0865703,  3.2690215,  4.4125237,\n",
              "         3.5573382,  5.25443  ,  5.813381 ,  6.1152134,  6.0663114,\n",
              "         6.228939 ,  6.1707187,  4.5604205,  2.2338867,  1.6430904,\n",
              "         2.0159006,  2.0296867,  2.6539786,  2.2675486,  3.002125 ,\n",
              "         3.2055404,  5.246514 ,  3.5820596,  1.8256857,  1.287239 ,\n",
              "         1.0068555,  0.9150815,  1.5996907,  1.4360936,  1.7962916,\n",
              "         2.758144 ,  4.011854 ,  4.67005  ,  5.37479  ,  6.813224 ,\n",
              "         7.9549246,  7.377821 ,  6.4582496,  3.4126666,  2.3076415,\n",
              "         1.2937194,  1.6581042,  3.912986 ,  5.5543637,  7.229604 ,\n",
              "        10.023659 , 11.261047 , 11.120637 , 11.275661 ,  5.2035937,\n",
              "         2.0766451,  2.7775764,  3.082911 ,  3.7907965,  4.1045732,\n",
              "         1.6792631,  2.7229354,  4.5711074,  5.6624923,  6.056255 ,\n",
              "         6.882801 ,  9.505369 ,  9.837114 ,  9.729055 ,  4.1685367,\n",
              "         2.889216 ,  4.135869 ,  3.0681963,  5.3937135,  7.062622 ,\n",
              "         6.6848373,  5.394933 ,  7.137693 ,  8.648853 , 12.082274 ,\n",
              "        10.363711 ,  7.319812 ,  4.7041802,  4.4483967,  3.1699924,\n",
              "         3.8592954,  4.3458323,  4.6846747,  5.0060806,  4.9075665,\n",
              "         5.1444483,  8.6463375,  9.295181 ,  8.86525  ,  2.731244 ,\n",
              "         1.8032637,  1.7432535,  2.340832 ,  1.9575248,  1.8799239,\n",
              "         1.8033402,  1.8437144,  2.635671 ,  5.283246 ,  8.8088   ,\n",
              "        13.675116 , 14.171592 , 15.376464 , 16.3185   , 17.13722  ,\n",
              "        12.041462 ,  5.8925686,  3.486028 ,  3.2607875,  4.764722 ,\n",
              "         6.1433887,  7.6434793, 11.483698 , 13.123841 , 12.651613 ,\n",
              "         9.774793 ,  9.733839 , 10.546914 , 12.704691 , 11.434846 ,\n",
              "        12.684725 , 15.0674   , 12.512897 , 11.721598 , 12.923053 ,\n",
              "         9.303562 ,  7.220707 ,  6.025281 , 10.38604  , 14.198488 ,\n",
              "        12.716659 ,  3.550932 ,  3.9652684,  2.1854033,  6.6715927,\n",
              "         7.8490353,  7.860316 ,  8.220919 ,  8.606318 ,  9.792499 ,\n",
              "        10.205542 ,  2.2183337,  3.3728487,  4.5219398,  4.663544 ,\n",
              "         5.1587796,  7.934779 , 12.364277 , 11.241166 ,  8.389806 ,\n",
              "         8.540012 , 10.136984 , 14.276953 , 14.64156  , 11.98328  ,\n",
              "        12.251575 , 14.671898 , 14.275289 , 18.870628 , 11.601057 ,\n",
              "         3.975502 ,  5.0037055,  3.8269546,  4.7701817,  5.7543526,\n",
              "         7.0924478,  6.518224 ,  8.1251335,  5.4679875,  6.1594367,\n",
              "        10.042386 , 13.195684 , 19.280653 , 17.523743 ,  8.444739 ,\n",
              "         4.5410132,  3.8921528,  4.1573577,  6.25742  ,  9.995891 ,\n",
              "         7.7973976,  7.2562704,  6.590764 ,  8.991868 , 11.582218 ,\n",
              "        13.128695 , 12.510303 , 11.390868 ,  9.392464 ,  5.412298 ,\n",
              "         3.5475037,  3.9644156,  1.9839374,  2.9119692,  2.393741 ,\n",
              "         3.2950184,  3.946776 ,  5.6367784,  7.876003 ,  7.3682165,\n",
              "         7.0764756,  3.1484735,  4.208804 ,  6.7508416,  9.257145 ,\n",
              "         9.78753  ,  5.5440555,  6.55744  ,  4.857295 ,  3.064106 ,\n",
              "         1.5432389,  1.7323669,  1.2326909,  1.6381253,  1.667077 ,\n",
              "         2.6399596,  3.5817914,  6.3050733,  7.447983 ,  7.797603 ,\n",
              "         6.0229993,  5.7842207,  5.3361382,  4.925681 ,  7.909637 ,\n",
              "        10.575544 , 13.403435 , 12.874508 ,  9.463882 ,  6.9070206,\n",
              "         6.187902 ,  4.115022 ,  4.4115276,  7.3287053,  9.03645  ,\n",
              "        12.988855 ,  8.600495 ,  4.770982 ,  4.376012 ,  6.1167736,\n",
              "         3.9108212,  2.3216372,  3.622551 ,  3.3567991,  5.901826 ,\n",
              "         4.3428855,  4.831246 ,  5.619924 ,  9.323053 , 12.068747 ,\n",
              "        14.832471 ], dtype=float32),\n",
              " 'mase': 2.353809}"
            ]
          },
          "metadata": {},
          "execution_count": 66
        }
      ]
    },
    {
      "cell_type": "markdown",
      "source": [
        "\n",
        "## Make our evaluation function work for larger horizons\n",
        "You'll notice the outputs for model_3_results are multi-dimensional.\n",
        "\n",
        "This is because the predictions are getting evaluated across the HORIZON timesteps (7 predictions at a time).\n",
        "\n",
        "To fix this, let's adjust our evaluate_preds() function to work with multiple shapes of data."
      ],
      "metadata": {
        "id": "Lr7wWZfthGRQ"
      }
    },
    {
      "cell_type": "code",
      "source": [
        "def evaluate_preds(y_true, y_pred):\n",
        "  # Make sure float32 (for metric calculations)\n",
        "  y_true = tf.cast(y_true, dtype=tf.float32)\n",
        "  y_pred = tf.cast(y_pred, dtype=tf.float32)\n",
        "\n",
        "  # Calculate various metrics\n",
        "  mae = tf.keras.metrics.mean_absolute_error(y_true, y_pred)\n",
        "  mse = tf.keras.metrics.mean_squared_error(y_true, y_pred)\n",
        "  rmse = tf.sqrt(mse)\n",
        "  mape = tf.keras.metrics.mean_absolute_percentage_error(y_true, y_pred)\n",
        "  mase = mean_absolute_scaled_error(y_true, y_pred)\n",
        "\n",
        "  # Account for different sized metrics (for longer horizons, reduce to single number)\n",
        "  if mae.ndim > 0: # if mae isn't already a scalar, reduce it to one by aggregating tensors to mean\n",
        "    mae = tf.reduce_mean(mae)\n",
        "    mse = tf.reduce_mean(mse)\n",
        "    rmse = tf.reduce_mean(rmse)\n",
        "    mape = tf.reduce_mean(mape)\n",
        "    mase = tf.reduce_mean(mase)\n",
        "\n",
        "  return {\"mae\": mae.numpy(),\n",
        "          \"mse\": mse.numpy(),\n",
        "          \"rmse\": rmse.numpy(),\n",
        "          \"mape\": mape.numpy(),\n",
        "          \"mase\": mase.numpy()}"
      ],
      "metadata": {
        "id": "PnFokcaDdo--"
      },
      "execution_count": 69,
      "outputs": []
    },
    {
      "cell_type": "code",
      "source": [
        "# Get model_3 results aggregated to single values\n",
        "model_3_results = evaluate_preds(y_true=tf.squeeze(test_labels),\n",
        "                                 y_pred=model_3_preds)\n",
        "model_3_results"
      ],
      "metadata": {
        "colab": {
          "base_uri": "https://localhost:8080/"
        },
        "id": "Q8gJ5EnMhr8L",
        "outputId": "64494219-6939-48f8-ad28-6bb0ab09f6d7"
      },
      "execution_count": 70,
      "outputs": [
        {
          "output_type": "execute_result",
          "data": {
            "text/plain": [
              "{'mae': 1322.778,\n",
              " 'mse': 5710234.5,\n",
              " 'rmse': 1503.3861,\n",
              " 'mape': 5.84597,\n",
              " 'mase': 2.353809}"
            ]
          },
          "metadata": {},
          "execution_count": 70
        }
      ]
    },
    {
      "cell_type": "markdown",
      "source": [
        " # We made and evaluted predictions with model_3, lets visualize"
      ],
      "metadata": {
        "id": "tFgqbkbejeb_"
      }
    },
    {
      "cell_type": "code",
      "source": [
        "offset = 300\n",
        "plt.figure(figsize=(10, 7))\n",
        "plot_time_series(timesteps=X_test[-len(test_windows):], values=test_labels[:, 0], start=offset, label=\"Test_data\")\n",
        "# Checking the shape of model_3_preds results in [n_test_samples, HORIZON] (this will screw up the plot)\n",
        "plot_time_series(timesteps=X_test[-len(test_windows):], values=model_3_preds, start=offset, label=\"model_3_preds\")"
      ],
      "metadata": {
        "colab": {
          "base_uri": "https://localhost:8080/",
          "height": 442
        },
        "id": "Mx5M40_Sh1WL",
        "outputId": "1fb6b130-1ce6-4bd8-b8d0-39739ba9f842"
      },
      "execution_count": 71,
      "outputs": [
        {
          "output_type": "display_data",
          "data": {
            "text/plain": [
              "<Figure size 720x504 with 1 Axes>"
            ],
            "image/png": "[encoded data removed]"
          },
          "metadata": {
            "needs_background": "light"
          }
        }
      ]
    },
    {
      "cell_type": "code",
      "source": [],
      "metadata": {
        "id": "fzgl_1loh5hE"
      },
      "execution_count": null,
      "outputs": []
    }
  ]
}